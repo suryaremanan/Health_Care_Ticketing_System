{
 "cells": [
  {
   "cell_type": "code",
   "execution_count": 1,
   "metadata": {
    "colab": {
     "base_uri": "https://localhost:8080/",
     "height": 34
    },
    "colab_type": "code",
    "id": "_yVbURGIY9iu",
    "outputId": "0ace1ae2-7ad5-489b-ef6c-1bc6e11cbd8e"
   },
   "outputs": [
    {
     "name": "stderr",
     "output_type": "stream",
     "text": [
      "C:\\Users\\CE700\\AppData\\Local\\Continuum\\anaconda3\\lib\\site-packages\\h5py\\__init__.py:36: FutureWarning: Conversion of the second argument of issubdtype from `float` to `np.floating` is deprecated. In future, it will be treated as `np.float64 == np.dtype(float).type`.\n",
      "  from ._conv import register_converters as _register_converters\n",
      "Using TensorFlow backend.\n"
     ]
    }
   ],
   "source": [
    "import os, sys\n",
    "import numpy as np\n",
    "\n",
    "import pandas as pd\n",
    "from keras.layers import Input, Dense, Flatten,Activation\n",
    "from keras.layers import Conv1D, MaxPooling1D,Dropout,LSTM\n",
    "from keras.layers import Embedding\n",
    "\n",
    "from keras.preprocessing.text import Tokenizer\n",
    "from keras.preprocessing.sequence import pad_sequences\n",
    "\n",
    "from keras.utils import to_categorical\n",
    "\n",
    "from numpy import zeros\n",
    "from numpy import asarray\n",
    "\n",
    "from keras.preprocessing.text import Tokenizer\n",
    "\n",
    "from keras.preprocessing.sequence import pad_sequences\n",
    "\n",
    "from keras.models import Sequential\n",
    "\n",
    "from keras.layers import Dense\n",
    "from keras.layers import Flatten\n",
    "\n",
    "from keras.layers.embeddings import Embedding\n",
    "\n",
    "import matplotlib.pyplot as plt\n",
    "%matplotlib inline\n",
    "# fix random seed for reproducibility\n",
    "np.random.seed(42)"
   ]
  },
  {
   "cell_type": "markdown",
   "metadata": {},
   "source": [
    "### Reading  the Data"
   ]
  },
  {
   "cell_type": "code",
   "execution_count": 2,
   "metadata": {
    "colab": {},
    "colab_type": "code",
    "id": "oy6L6xFTY9i8"
   },
   "outputs": [],
   "source": [
    "Data = pd.read_csv(\"train-1546603042473.csv\")\n",
    "Data_Test = pd.read_csv(\"test-1546603743049.csv\")"
   ]
  },
  {
   "cell_type": "code",
   "execution_count": 3,
   "metadata": {
    "colab": {
     "base_uri": "https://localhost:8080/",
     "height": 204
    },
    "colab_type": "code",
    "id": "KZArqJwbY9jC",
    "outputId": "a4465352-fad0-4cad-ad4c-515c4bb0e081"
   },
   "outputs": [
    {
     "data": {
      "text/html": [
       "<div>\n",
       "<style scoped>\n",
       "    .dataframe tbody tr th:only-of-type {\n",
       "        vertical-align: middle;\n",
       "    }\n",
       "\n",
       "    .dataframe tbody tr th {\n",
       "        vertical-align: top;\n",
       "    }\n",
       "\n",
       "    .dataframe thead th {\n",
       "        text-align: right;\n",
       "    }\n",
       "</style>\n",
       "<table border=\"1\" class=\"dataframe\">\n",
       "  <thead>\n",
       "    <tr style=\"text-align: right;\">\n",
       "      <th></th>\n",
       "      <th>categories</th>\n",
       "      <th>converse</th>\n",
       "    </tr>\n",
       "  </thead>\n",
       "  <tbody>\n",
       "    <tr>\n",
       "      <th>0</th>\n",
       "      <td>QUERIES FROM PHARMACY</td>\n",
       "      <td>please to verify instructions for drugname pat...</td>\n",
       "    </tr>\n",
       "    <tr>\n",
       "      <th>1</th>\n",
       "      <td>NEW APPOINTMENT</td>\n",
       "      <td>lmovm for patients mother to and schd rov trac...</td>\n",
       "    </tr>\n",
       "    <tr>\n",
       "      <th>2</th>\n",
       "      <td>OTHERS</td>\n",
       "      <td>labtype and insurance approval other incoming ...</td>\n",
       "    </tr>\n",
       "    <tr>\n",
       "      <th>3</th>\n",
       "      <td>OTHERS</td>\n",
       "      <td>clinical list changes medfusion secure electro...</td>\n",
       "    </tr>\n",
       "    <tr>\n",
       "      <th>4</th>\n",
       "      <td>MEDICATION RELATED</td>\n",
       "      <td>wants to wean off medication work phone name d...</td>\n",
       "    </tr>\n",
       "  </tbody>\n",
       "</table>\n",
       "</div>"
      ],
      "text/plain": [
       "              categories                                           converse\n",
       "0  QUERIES FROM PHARMACY  please to verify instructions for drugname pat...\n",
       "1        NEW APPOINTMENT  lmovm for patients mother to and schd rov trac...\n",
       "2                 OTHERS  labtype and insurance approval other incoming ...\n",
       "3                 OTHERS  clinical list changes medfusion secure electro...\n",
       "4     MEDICATION RELATED  wants to wean off medication work phone name d..."
      ]
     },
     "execution_count": 3,
     "metadata": {},
     "output_type": "execute_result"
    }
   ],
   "source": [
    "Data.head()"
   ]
  },
  {
   "cell_type": "code",
   "execution_count": 4,
   "metadata": {},
   "outputs": [
    {
     "data": {
      "text/html": [
       "<div>\n",
       "<style scoped>\n",
       "    .dataframe tbody tr th:only-of-type {\n",
       "        vertical-align: middle;\n",
       "    }\n",
       "\n",
       "    .dataframe tbody tr th {\n",
       "        vertical-align: top;\n",
       "    }\n",
       "\n",
       "    .dataframe thead th {\n",
       "        text-align: right;\n",
       "    }\n",
       "</style>\n",
       "<table border=\"1\" class=\"dataframe\">\n",
       "  <thead>\n",
       "    <tr style=\"text-align: right;\">\n",
       "      <th></th>\n",
       "      <th>id</th>\n",
       "      <th>converse</th>\n",
       "    </tr>\n",
       "  </thead>\n",
       "  <tbody>\n",
       "    <tr>\n",
       "      <th>0</th>\n",
       "      <td>1</td>\n",
       "      <td>request to speak with rn no given patients ref...</td>\n",
       "    </tr>\n",
       "    <tr>\n",
       "      <th>1</th>\n",
       "      <td>2</td>\n",
       "      <td>patients husband ret name spouse for other pat...</td>\n",
       "    </tr>\n",
       "    <tr>\n",
       "      <th>2</th>\n",
       "      <td>3</td>\n",
       "      <td>fyi in his szs mom other he has an appointment...</td>\n",
       "    </tr>\n",
       "    <tr>\n",
       "      <th>3</th>\n",
       "      <td>4</td>\n",
       "      <td>Rx refill drugname from pharmacy name reason f...</td>\n",
       "    </tr>\n",
       "    <tr>\n",
       "      <th>4</th>\n",
       "      <td>5</td>\n",
       "      <td>need more time for testing dad is requesting a...</td>\n",
       "    </tr>\n",
       "  </tbody>\n",
       "</table>\n",
       "</div>"
      ],
      "text/plain": [
       "   id                                           converse\n",
       "0   1  request to speak with rn no given patients ref...\n",
       "1   2  patients husband ret name spouse for other pat...\n",
       "2   3  fyi in his szs mom other he has an appointment...\n",
       "3   4  Rx refill drugname from pharmacy name reason f...\n",
       "4   5  need more time for testing dad is requesting a..."
      ]
     },
     "execution_count": 4,
     "metadata": {},
     "output_type": "execute_result"
    }
   ],
   "source": [
    "Data_Test.head()"
   ]
  },
  {
   "cell_type": "code",
   "execution_count": 5,
   "metadata": {
    "colab": {
     "base_uri": "https://localhost:8080/",
     "height": 34
    },
    "colab_type": "code",
    "id": "h6oqMJkQY9jO",
    "outputId": "a5fc9077-71a1-44aa-f5d5-5a0a768d482c"
   },
   "outputs": [
    {
     "data": {
      "text/plain": [
       "(48699, 2)"
      ]
     },
     "execution_count": 5,
     "metadata": {},
     "output_type": "execute_result"
    }
   ],
   "source": [
    "Data.shape"
   ]
  },
  {
   "cell_type": "markdown",
   "metadata": {},
   "source": [
    "### Checking for Na's and Removing Na's"
   ]
  },
  {
   "cell_type": "code",
   "execution_count": 6,
   "metadata": {
    "colab": {},
    "colab_type": "code",
    "id": "oG2dyefjY9ja"
   },
   "outputs": [],
   "source": [
    "def find_remove_NAN(ds):\n",
    "    print(ds.shape)\n",
    "    mis_val = ds.isnull().sum()\n",
    "    print(mis_val)\n",
    "    ds.dropna(inplace=True)\n",
    "    print(ds.shape)\n",
    "    print(ds.info())"
   ]
  },
  {
   "cell_type": "code",
   "execution_count": 7,
   "metadata": {
    "colab": {
     "base_uri": "https://localhost:8080/",
     "height": 238
    },
    "colab_type": "code",
    "id": "HJ1i1cH2Y9jh",
    "outputId": "ec553a58-41d3-4221-dc7d-0605a6f5cee7"
   },
   "outputs": [
    {
     "name": "stdout",
     "output_type": "stream",
     "text": [
      "(48699, 2)\n",
      "categories     0\n",
      "converse      32\n",
      "dtype: int64\n",
      "(48667, 2)\n",
      "<class 'pandas.core.frame.DataFrame'>\n",
      "Int64Index: 48667 entries, 0 to 48698\n",
      "Data columns (total 2 columns):\n",
      "categories    48667 non-null object\n",
      "converse      48667 non-null object\n",
      "dtypes: object(2)\n",
      "memory usage: 1.1+ MB\n",
      "None\n"
     ]
    }
   ],
   "source": [
    "find_remove_NAN(Data)"
   ]
  },
  {
   "cell_type": "code",
   "execution_count": null,
   "metadata": {
    "colab": {
     "base_uri": "https://localhost:8080/",
     "height": 238
    },
    "colab_type": "code",
    "id": "zJ04TzMBY9js",
    "outputId": "e9b95c93-0462-4a81-cc4c-e3415c5830df"
   },
   "outputs": [],
   "source": [
    "find_remove_NAN(Data_Test)"
   ]
  },
  {
   "cell_type": "markdown",
   "metadata": {},
   "source": [
    "### Checking For Unique Categories"
   ]
  },
  {
   "cell_type": "code",
   "execution_count": 9,
   "metadata": {
    "colab": {
     "base_uri": "https://localhost:8080/",
     "height": 187
    },
    "colab_type": "code",
    "id": "sXqM1HamY9j1",
    "outputId": "d7f27fd5-e744-48a4-c876-00d9ce636e0e"
   },
   "outputs": [
    {
     "data": {
      "text/plain": [
       "array(['QUERIES FROM PHARMACY', 'NEW APPOINTMENT', 'OTHERS',\n",
       "       'MEDICATION RELATED',\n",
       "       'SHARING OF HEALTH RECORDS (FAX, E-MAIL, ETC.)', 'REFILL',\n",
       "       'PRIOR AUTHORIZATION', 'RESCHEDULING', 'SYMPTOMS', 'LAB RESULTS',\n",
       "       'FOLLOW UP ON PREVIOUS REQUEST', 'PROVIDER', 'CHANGE OF PROVIDER',\n",
       "       'SHARING OF LAB RECORDS (FAX, E-MAIL, ETC.)',\n",
       "       'QUERY ON CURRENT APPOINTMENT', 'RUNNING LATE TO APPOINTMENT',\n",
       "       'CANCELLATION', 'CHANGE OF PHARMACY',\n",
       "       'QUERIES FROM INSURANCE FIRM', 'JUNK', 'CHANGE OF HOSPITAL'],\n",
       "      dtype=object)"
      ]
     },
     "execution_count": 9,
     "metadata": {},
     "output_type": "execute_result"
    }
   ],
   "source": [
    "Data['categories'].unique()"
   ]
  },
  {
   "cell_type": "code",
   "execution_count": 10,
   "metadata": {
    "colab": {
     "base_uri": "https://localhost:8080/",
     "height": 509
    },
    "colab_type": "code",
    "id": "Op1gcrBeY9j9",
    "outputId": "2cdaff47-ac82-4c34-debf-53e02c5f617b"
   },
   "outputs": [
    {
     "data": {
      "image/png": "[encoded data removed]",
      "text/plain": [
       "<Figure size 720x288 with 1 Axes>"
      ]
     },
     "metadata": {},
     "output_type": "display_data"
    }
   ],
   "source": [
    "my_tags =['QUERIES FROM PHARMACY', 'NEW APPOINTMENT', 'OTHERS',\n",
    "       'MEDICATION RELATED',\n",
    "       'SHARING OF HEALTH RECORDS (FAX, E-MAIL, ETC.)', 'REFILL',\n",
    "       'PRIOR AUTHORIZATION', 'RESCHEDULING', 'SYMPTOMS', 'LAB RESULTS',\n",
    "       'FOLLOW UP ON PREVIOUS REQUEST', 'PROVIDER', 'CHANGE OF PROVIDER',\n",
    "       'SHARING OF LAB RECORDS (FAX, E-MAIL, ETC.)',\n",
    "       'QUERY ON CURRENT APPOINTMENT', 'RUNNING LATE TO APPOINTMENT',\n",
    "       'CANCELLATION', 'CHANGE OF PHARMACY',\n",
    "       'QUERIES FROM INSURANCE FIRM', 'JUNK', 'CHANGE OF HOSPITAL']\n",
    "plt.figure(figsize=(10,4))\n",
    "Data.categories.value_counts().plot(kind='bar');"
   ]
  },
  {
   "cell_type": "markdown",
   "metadata": {},
   "source": [
    "### Label Encoding"
   ]
  },
  {
   "cell_type": "code",
   "execution_count": 11,
   "metadata": {
    "colab": {},
    "colab_type": "code",
    "id": "gIXQtnNqY9kH"
   },
   "outputs": [],
   "source": [
    "from sklearn.preprocessing import LabelEncoder\n",
    "labelencoder = LabelEncoder()\n",
    "Data['categories'] = labelencoder.fit_transform(Data['categories'])"
   ]
  },
  {
   "cell_type": "markdown",
   "metadata": {},
   "source": [
    "### Stop Words Removal"
   ]
  },
  {
   "cell_type": "code",
   "execution_count": 12,
   "metadata": {},
   "outputs": [
    {
     "data": {
      "text/plain": [
       "0    please verify instructions drugname patients w...\n",
       "1    lmovm patients mother schd rov tracy dominguez...\n",
       "2    labtype insurance approval incoming name lpn c...\n",
       "3    clinical list changes medfusion secure electro...\n",
       "4    wants wean medication work phone name dad pati...\n",
       "Name: converse, dtype: object"
      ]
     },
     "execution_count": 12,
     "metadata": {},
     "output_type": "execute_result"
    }
   ],
   "source": [
    "#Remove stop words\n",
    "from nltk.corpus import stopwords\n",
    "stop = stopwords.words('english')\n",
    "Data['converse'] = Data['converse'].apply(lambda x: \" \".join(x for x in x.split() if x not in stop))\n",
    "Data['converse'].head()"
   ]
  },
  {
   "cell_type": "code",
   "execution_count": 13,
   "metadata": {
    "colab": {
     "base_uri": "https://localhost:8080/",
     "height": 51
    },
    "colab_type": "code",
    "id": "0m-40lUZY9kO",
    "outputId": "eb2cb032-3d00-43bc-903e-24e75962d22f"
   },
   "outputs": [
    {
     "data": {
      "text/plain": [
       "array([13,  8,  9,  7, 18, 15, 10, 16, 20,  6,  4, 11,  3, 19, 14, 17,  0,\n",
       "        2, 12,  5,  1], dtype=int64)"
      ]
     },
     "execution_count": 13,
     "metadata": {},
     "output_type": "execute_result"
    }
   ],
   "source": [
    "Data['categories'].unique()"
   ]
  },
  {
   "cell_type": "code",
   "execution_count": 14,
   "metadata": {
    "colab": {},
    "colab_type": "code",
    "id": "D02Qhg7nY9kU"
   },
   "outputs": [],
   "source": [
    "#Total 20 Categories"
   ]
  },
  {
   "cell_type": "code",
   "execution_count": 15,
   "metadata": {
    "colab": {
     "base_uri": "https://localhost:8080/",
     "height": 204
    },
    "colab_type": "code",
    "id": "r7sTGzxIY9kY",
    "outputId": "cac011c3-aa52-41df-92a0-e632ebf67bb9"
   },
   "outputs": [
    {
     "data": {
      "text/html": [
       "<div>\n",
       "<style scoped>\n",
       "    .dataframe tbody tr th:only-of-type {\n",
       "        vertical-align: middle;\n",
       "    }\n",
       "\n",
       "    .dataframe tbody tr th {\n",
       "        vertical-align: top;\n",
       "    }\n",
       "\n",
       "    .dataframe thead th {\n",
       "        text-align: right;\n",
       "    }\n",
       "</style>\n",
       "<table border=\"1\" class=\"dataframe\">\n",
       "  <thead>\n",
       "    <tr style=\"text-align: right;\">\n",
       "      <th></th>\n",
       "      <th>categories</th>\n",
       "      <th>converse</th>\n",
       "    </tr>\n",
       "  </thead>\n",
       "  <tbody>\n",
       "    <tr>\n",
       "      <th>0</th>\n",
       "      <td>13</td>\n",
       "      <td>please verify instructions drugname patients w...</td>\n",
       "    </tr>\n",
       "    <tr>\n",
       "      <th>1</th>\n",
       "      <td>8</td>\n",
       "      <td>lmovm patients mother schd rov tracy dominguez...</td>\n",
       "    </tr>\n",
       "    <tr>\n",
       "      <th>2</th>\n",
       "      <td>9</td>\n",
       "      <td>labtype insurance approval incoming name lpn c...</td>\n",
       "    </tr>\n",
       "    <tr>\n",
       "      <th>3</th>\n",
       "      <td>9</td>\n",
       "      <td>clinical list changes medfusion secure electro...</td>\n",
       "    </tr>\n",
       "    <tr>\n",
       "      <th>4</th>\n",
       "      <td>7</td>\n",
       "      <td>wants wean medication work phone name dad pati...</td>\n",
       "    </tr>\n",
       "  </tbody>\n",
       "</table>\n",
       "</div>"
      ],
      "text/plain": [
       "   categories                                           converse\n",
       "0          13  please verify instructions drugname patients w...\n",
       "1           8  lmovm patients mother schd rov tracy dominguez...\n",
       "2           9  labtype insurance approval incoming name lpn c...\n",
       "3           9  clinical list changes medfusion secure electro...\n",
       "4           7  wants wean medication work phone name dad pati..."
      ]
     },
     "execution_count": 15,
     "metadata": {},
     "output_type": "execute_result"
    }
   ],
   "source": [
    "Data.head()"
   ]
  },
  {
   "cell_type": "code",
   "execution_count": 16,
   "metadata": {},
   "outputs": [],
   "source": [
    "#Data.dtypes\n",
    "#Data['categories'] = to_categorical(np.asarray(Data['categories']))\n",
    "Data_Test_converse = Data_Test['converse']"
   ]
  },
  {
   "cell_type": "code",
   "execution_count": 17,
   "metadata": {},
   "outputs": [
    {
     "name": "stdout",
     "output_type": "stream",
     "text": [
      "(8577,)\n",
      "<class 'pandas.core.series.Series'>\n"
     ]
    }
   ],
   "source": [
    "Data_Test_converse.head()\n",
    "print(Data_Test_converse.shape)\n",
    "print(type(Data_Test_converse))"
   ]
  },
  {
   "cell_type": "markdown",
   "metadata": {},
   "source": [
    "### Dividing the Data to docs and Labels"
   ]
  },
  {
   "cell_type": "code",
   "execution_count": 18,
   "metadata": {
    "colab": {},
    "colab_type": "code",
    "id": "O2tDZy4_Y9kc"
   },
   "outputs": [],
   "source": [
    "# define documents\n",
    "docs = []\n",
    "labels =[]\n",
    "docs_Test =[]\n",
    "for row in Data['converse']:\n",
    "    docs.append(row)\n",
    "for row_1 in Data['categories']:\n",
    "    labels.append(row_1)\n",
    "for row_t in Data_Test_converse:\n",
    "    docs_Test.append(row)"
   ]
  },
  {
   "cell_type": "code",
   "execution_count": 19,
   "metadata": {
    "colab": {
     "base_uri": "https://localhost:8080/",
     "height": 71
    },
    "colab_type": "code",
    "id": "Dj8cU9B2Y9kg",
    "outputId": "7643056a-882b-4ed3-a81a-4fefc7ddaf48"
   },
   "outputs": [
    {
     "name": "stdout",
     "output_type": "stream",
     "text": [
      "['please verify instructions drugname patients wi pharmacy target reason call details please verify instructions drugname patients picking Rx timephrase clarified Rx pharmacy lisa gilligan rn', 'lmovm patients mother schd rov tracy dominguez kellee currie pm rhonda fanning', 'labtype insurance approval incoming name lpn clinical review cigna reason call details inform enough information provided patients approved home labtype whitney fax need filled sent questions please whintey rna follow routed wendy upchurch lisa mohamed rn auth obtained routed sleep schedulers tammy byrd fyi wendy upchurch clinical list changes', 'clinical list changes medfusion secure electronic message subject genetic testing hello jennifer wanted update stand far genetic testing concerned working building standard order testing testing administered ground floor building next door seen today contact order sent able obtain cost estimate look forward speaking soon angela cma end message body route responses ansmith notify read failure notice days message queued notanimer timephrase', 'wants wean medication work phone name dad patients dad request sw rn discuss patients care timephrase pm lmtcb regarding dad question timephrase pm lmtcb x patient dad asking patients could weaned medicine since last seizure months ago patients currently taken lamictal mg tab tabs pm hoping try weaning patients since school summer provider notified timephrase pm would suggest arrange sleep deprived labtype make sure truly outgrown order done promptly meet seen discuss weaning medication md timephrase pm dad says please order labtype provider notified timephrase']\n",
      "[13, 8, 9, 9, 7]\n",
      "0    request to speak with rn no given patients ref...\n",
      "1    patients husband ret name spouse for other pat...\n",
      "2    fyi in his szs mom other he has an appointment...\n",
      "3    Rx refill drugname from pharmacy name reason f...\n",
      "4    need more time for testing dad is requesting a...\n",
      "Name: converse, dtype: object\n"
     ]
    }
   ],
   "source": [
    "print(docs[0:5])\n",
    "print(labels[0:5])\n",
    "print(Data_Test_converse[0:5])"
   ]
  },
  {
   "cell_type": "code",
   "execution_count": 20,
   "metadata": {
    "colab": {},
    "colab_type": "code",
    "id": "PESK1iuteAgZ"
   },
   "outputs": [],
   "source": [
    "# import keras\n",
    "# import keras.utils\n",
    "# labels_1 =keras.utils.to_categorical(labels)\n",
    "# print(labels[0:5])\n",
    "# print(labels_1[0:5])"
   ]
  },
  {
   "cell_type": "code",
   "execution_count": 21,
   "metadata": {
    "colab": {
     "base_uri": "https://localhost:8080/",
     "height": 34
    },
    "colab_type": "code",
    "id": "GAXYxFCJY9kr",
    "outputId": "51d1278e-264e-4151-f0f1-0d2159e30b22"
   },
   "outputs": [
    {
     "data": {
      "text/plain": [
       "48667"
      ]
     },
     "execution_count": 21,
     "metadata": {},
     "output_type": "execute_result"
    }
   ],
   "source": [
    "maxlength = len(Data.converse)\n",
    "maxlength"
   ]
  },
  {
   "cell_type": "markdown",
   "metadata": {},
   "source": [
    "### Tokeninization"
   ]
  },
  {
   "cell_type": "code",
   "execution_count": 22,
   "metadata": {
    "colab": {
     "base_uri": "https://localhost:8080/",
     "height": 34
    },
    "colab_type": "code",
    "id": "0-U1I5Q8Y9kx",
    "outputId": "1f46aa1a-5367-4945-bb60-c0b308ed369f"
   },
   "outputs": [
    {
     "name": "stdout",
     "output_type": "stream",
     "text": [
      "35607\n"
     ]
    }
   ],
   "source": [
    "# Prepare tokenizer\n",
    "t = Tokenizer()\n",
    "t.fit_on_texts(docs)\n",
    "#t1.fit_on_texts(docs_Test)\n",
    "#print (t.word_index)\n",
    "\n",
    "vocab_size = len(t.word_index) + 1\n",
    "#vocab_size1 = len(t1.word_index) + 1\n",
    "print (vocab_size)\n",
    "#print (vocab_size1)"
   ]
  },
  {
   "cell_type": "code",
   "execution_count": 23,
   "metadata": {
    "colab": {},
    "colab_type": "code",
    "id": "0t-TFPS3Y9k5"
   },
   "outputs": [],
   "source": [
    "# integer encode the documents\n",
    "encoded_docs = t.texts_to_sequences(docs)\n",
    "#encoded_docs_Test = t.texts_to_sequences(docs_Test)\n",
    "encoded_docs_Test = t.texts_to_sequences(Data_Test_converse)\n",
    "#Data_Test\n",
    "# print(docs)\n",
    "# print(encoded_docs)"
   ]
  },
  {
   "cell_type": "code",
   "execution_count": 24,
   "metadata": {},
   "outputs": [],
   "source": [
    "# ml =train['converse'].str.split(' ', expand=True).stack().value_counts()\n",
    "# print(ml)"
   ]
  },
  {
   "cell_type": "code",
   "execution_count": 25,
   "metadata": {
    "colab": {
     "base_uri": "https://localhost:8080/",
     "height": 102
    },
    "colab_type": "code",
    "id": "B2oIhysCY9k8",
    "outputId": "38a78ffb-6713-47bf-a138-ba8fdad0c9ef"
   },
   "outputs": [
    {
     "name": "stdout",
     "output_type": "stream",
     "text": [
      "[[   7  692   80 ...    0    0    0]\n",
      " [ 556    1  422 ...    0    0    0]\n",
      " [  10  161  468 ...    0    0    0]\n",
      " [  18   20   21 ...    0    0    0]\n",
      " [  72 1972   30 ...    0    0    0]]\n"
     ]
    }
   ],
   "source": [
    "# pad documents to a max length of 3551 words. (train data file has 2240 as max words but test data has 3551 max  words. so we choose 3551 for max_length)\n",
    "\n",
    "max_length = 500\n",
    "padded_docs = pad_sequences(encoded_docs, maxlen=max_length, padding='post')\n",
    "padded_docs_Test = pad_sequences(encoded_docs_Test, maxlen=max_length, padding='post')\n",
    "print(padded_docs[0:5])"
   ]
  },
  {
   "cell_type": "code",
   "execution_count": 26,
   "metadata": {},
   "outputs": [],
   "source": [
    "labels = to_categorical(np.asarray(labels))"
   ]
  },
  {
   "cell_type": "markdown",
   "metadata": {},
   "source": [
    "### Splitting the data 80 20"
   ]
  },
  {
   "cell_type": "code",
   "execution_count": 27,
   "metadata": {
    "colab": {},
    "colab_type": "code",
    "id": "jP0fUU9RY9k_"
   },
   "outputs": [
    {
     "name": "stdout",
     "output_type": "stream",
     "text": [
      "<class 'numpy.ndarray'>\n",
      "<class 'numpy.ndarray'>\n",
      "<class 'numpy.ndarray'>\n",
      "<class 'numpy.ndarray'>\n"
     ]
    }
   ],
   "source": [
    "#Performing train test split on the data\n",
    "from sklearn.model_selection import train_test_split\n",
    "X_train, X_test, y_train, y_test = train_test_split(padded_docs, labels, test_size=0.2, random_state=14, stratify = labels)\n",
    "print(type(X_train))\n",
    "print(type( X_test))\n",
    "print(type(y_train))\n",
    "print(type( y_test))"
   ]
  },
  {
   "cell_type": "code",
   "execution_count": 28,
   "metadata": {
    "colab": {},
    "colab_type": "code",
    "id": "_sdk2d6DY9lC"
   },
   "outputs": [],
   "source": [
    "#To get the distribution in the target in train and test\n",
    "#print(pd.value_counts(y_train))\n",
    "#print(pd.value_counts(y_test))\n",
    "# print(y_train.shape)\n",
    "# print(y_test.shape)\n",
    "# y_test.view()"
   ]
  },
  {
   "cell_type": "code",
   "execution_count": null,
   "metadata": {
    "colab": {
     "base_uri": "https://localhost:8080/",
     "height": 51
    },
    "colab_type": "code",
    "id": "pyM5IB7UY9lI",
    "outputId": "64e2573e-36ef-48ed-cfa4-dbdd1a2f0df0"
   },
   "outputs": [],
   "source": [
    "#To get the distribution in the target in train and test\n",
    "print(X_train.shape)\n",
    "print(X_test.shape)\n",
    "print(type(X_train))\n",
    "print(type(y_train))\n",
    "print(y_train.shape)\n",
    "print(y_test.shape)"
   ]
  },
  {
   "cell_type": "code",
   "execution_count": null,
   "metadata": {
    "colab": {},
    "colab_type": "code",
    "id": "v5MljnQ7Y9lM"
   },
   "outputs": [],
   "source": [
    "#The Embedding has a vocabulary of 35748 and an input length of 2440 for train and 3551 for test data"
   ]
  },
  {
   "cell_type": "markdown",
   "metadata": {},
   "source": [
    "# MLP Model"
   ]
  },
  {
   "cell_type": "code",
   "execution_count": 29,
   "metadata": {
    "colab": {},
    "colab_type": "code",
    "id": "gs9iX0rRY9lP"
   },
   "outputs": [],
   "source": [
    "# define the model\n",
    "model = Sequential()\n",
    "model.add(Embedding(vocab_size, 50, input_length=max_length))\n",
    "#model.add(Flatten())\n",
    "model.add(Flatten())\n",
    "model.add(Dense(21,activation='softmax'))\n",
    "#model.add(Activation('softmax'))"
   ]
  },
  {
   "cell_type": "code",
   "execution_count": 30,
   "metadata": {
    "colab": {},
    "colab_type": "code",
    "id": "2TEnj4VWY9lT"
   },
   "outputs": [],
   "source": [
    "# compile the model\n",
    "model.compile(optimizer='adam', loss='categorical_crossentropy', metrics=['accuracy'])"
   ]
  },
  {
   "cell_type": "code",
   "execution_count": 31,
   "metadata": {
    "colab": {
     "base_uri": "https://localhost:8080/",
     "height": 255
    },
    "colab_type": "code",
    "id": "avpUxWFkY9lV",
    "outputId": "1689184b-d26d-4761-f517-fdc510141392"
   },
   "outputs": [
    {
     "name": "stdout",
     "output_type": "stream",
     "text": [
      "_________________________________________________________________\n",
      "Layer (type)                 Output Shape              Param #   \n",
      "=================================================================\n",
      "embedding_1 (Embedding)      (None, 500, 50)           1780350   \n",
      "_________________________________________________________________\n",
      "flatten_1 (Flatten)          (None, 25000)             0         \n",
      "_________________________________________________________________\n",
      "dense_1 (Dense)              (None, 21)                525021    \n",
      "=================================================================\n",
      "Total params: 2,305,371\n",
      "Trainable params: 2,305,371\n",
      "Non-trainable params: 0\n",
      "_________________________________________________________________\n",
      "None\n"
     ]
    }
   ],
   "source": [
    "# summarize the model\n",
    "print(model.summary())"
   ]
  },
  {
   "cell_type": "code",
   "execution_count": 32,
   "metadata": {
    "colab": {
     "base_uri": "https://localhost:8080/",
     "height": 71
    },
    "colab_type": "code",
    "id": "m4zTpNNqY9la",
    "outputId": "9b324f1f-c90a-44a3-944e-a4c130d96903"
   },
   "outputs": [
    {
     "name": "stdout",
     "output_type": "stream",
     "text": [
      "Train on 38933 samples, validate on 9734 samples\n",
      "Epoch 1/2\n",
      "38933/38933 [==============================] - 59s 2ms/step - loss: 1.1487 - acc: 0.6513 - val_loss: 0.8744 - val_acc: 0.7180\n",
      "Epoch 2/2\n",
      "38933/38933 [==============================] - 62s 2ms/step - loss: 0.6521 - acc: 0.7894 - val_loss: 0.8447 - val_acc: 0.7284\n"
     ]
    },
    {
     "data": {
      "text/plain": [
       "<keras.callbacks.History at 0x2b53ea429b0>"
      ]
     },
     "execution_count": 32,
     "metadata": {},
     "output_type": "execute_result"
    }
   ],
   "source": [
    "# fit the model\n",
    "#model.fit(padded_docs, labels, epochs=50, verbose=0)\n",
    "model.fit(X_train, y_train, validation_data=(X_test, y_test), epochs=2,verbose=1)"
   ]
  },
  {
   "cell_type": "code",
   "execution_count": null,
   "metadata": {
    "colab": {},
    "colab_type": "code",
    "id": "y0x2IdX2Y9ld"
   },
   "outputs": [],
   "source": [
    "# evaluate the model\n",
    "loss, accuracy = model.evaluate(X_test, y_test, verbose=0)\n",
    "print('Accuracy: %f' % (accuracy*100))"
   ]
  },
  {
   "cell_type": "code",
   "execution_count": 33,
   "metadata": {},
   "outputs": [
    {
     "name": "stdout",
     "output_type": "stream",
     "text": [
      "[[6.5278786e-04 1.8119531e-03 2.0124520e-04 3.8503578e-03 7.3813382e-03\n",
      "  6.6776847e-05 2.0828699e-03 9.5521566e-03 1.7637919e-03 1.4523463e-01\n",
      "  3.1525621e-03 7.9701077e-03 9.1825932e-04 1.2261036e-03 1.9670899e-04\n",
      "  6.2502758e-03 3.2558237e-04 1.6665366e-04 7.3791707e-01 6.8715602e-02\n",
      "  5.6314096e-04]\n",
      " [2.2345921e-03 3.6547524e-03 1.7286753e-04 1.0230529e-02 4.0495396e-03\n",
      "  3.4289602e-05 4.5725447e-03 4.7044504e-01 2.1197540e-03 4.2624635e-01\n",
      "  2.9696978e-03 6.2581282e-03 1.7035465e-03 1.5142922e-04 1.6668210e-02\n",
      "  9.8450258e-03 1.6378269e-03 1.8104979e-04 2.0932678e-02 7.9390209e-04\n",
      "  1.5098318e-02]\n",
      " [1.9124961e-02 6.5837707e-03 3.2089181e-05 8.8002542e-03 2.7177720e-03\n",
      "  3.6113710e-05 7.1349870e-03 7.2588481e-02 1.5673737e-01 1.0459165e-02\n",
      "  6.8588433e-04 5.6378406e-01 2.2579421e-04 3.2309785e-05 3.7758768e-02\n",
      "  9.9547161e-04 6.2376526e-03 3.1504090e-04 7.5118458e-03 9.4030812e-02\n",
      "  4.2072446e-03]\n",
      " [2.3780590e-02 1.1617837e-02 4.4187516e-04 4.2946607e-02 1.1792555e-03\n",
      "  4.2806998e-05 8.4063411e-03 2.6223975e-01 3.0180421e-01 3.3527404e-02\n",
      "  2.3076970e-03 6.1119225e-02 5.2458909e-04 2.4909023e-05 5.4206781e-02\n",
      "  5.5699376e-03 1.5969628e-02 4.0765837e-04 1.0348097e-03 4.1330894e-03\n",
      "  1.6871502e-01]\n",
      " [5.8677074e-06 4.6028499e-06 2.2389521e-04 4.2623474e-06 1.8035123e-03\n",
      "  2.6616157e-05 1.7069142e-05 1.8431500e-03 1.7063583e-04 6.3366076e-04\n",
      "  4.9207371e-04 1.5073430e-04 5.2287014e-06 9.9063858e-05 2.8813188e-06\n",
      "  9.9439359e-01 2.1586009e-06 1.6617443e-05 8.8001216e-05 6.3869643e-06\n",
      "  1.0029895e-05]]\n"
     ]
    }
   ],
   "source": [
    "Y_pred_test = model.predict(X_test)\n",
    "print(Y_pred_test[0:5])"
   ]
  },
  {
   "cell_type": "code",
   "execution_count": 34,
   "metadata": {},
   "outputs": [
    {
     "name": "stdout",
     "output_type": "stream",
     "text": [
      "[18, 7, 11, 8, 15, 8, 9, 10, 8, 7, 7, 10, 16, 7, 18, 8, 7, 6, 15, 13, 15, 9, 9, 20, 6, 15, 8, 7, 7, 9, 18, 9, 7, 15, 7, 9, 15, 8, 9, 11, 15, 3, 3, 7, 15, 8, 8, 15, 18, 15, 7, 8, 7, 13, 15, 6, 11, 15, 7, 8, 8, 7, 9, 8, 6, 9, 8, 7, 7, 8, 9, 8, 8, 7, 6, 9, 15, 7, 11, 8, 8, 15, 7, 19, 15, 6, 7, 15, 15, 7, 7, 15, 11, 8, 4, 15, 15, 15, 7, 6, 7, 11, 7, 10, 15, 13, 7, 3, 18, 8, 9, 15, 7, 6, 8, 7, 18, 7, 7, 11, 11, 9, 9, 8, 19, 15, 7, 18, 18, 18, 7, 11, 13, 9, 17, 7, 9, 7, 7, 8, 7, 9, 7, 8, 18, 9, 15, 9, 7, 7, 6, 7, 16, 9, 0, 15, 7, 15, 13, 7, 15, 9, 7, 8, 7, 7, 18, 15, 8, 7, 6, 19, 0, 9, 7, 13, 18, 15, 15, 7, 8, 15, 11, 16, 18, 9, 9, 7, 18, 9, 15, 8, 15, 8, 15, 19, 9, 13, 9, 15, 15, 18, 15, 3, 8, 7, 8, 8, 6, 8, 15, 7, 4, 8, 6, 6, 9, 7, 9, 8, 15, 13, 11, 18, 7, 15, 7, 7, 15, 13, 15, 15, 11, 8, 9, 9, 9, 11, 15, 8, 18, 9, 9, 8, 13, 8, 7, 8, 7, 18, 7, 7, 8, 19, 6, 8, 16, 16, 7, 7, 9, 9, 7, 15, 15, 7, 9, 9, 8, 7, 15, 8, 9, 8, 20, 8, 9, 10, 7, 9, 15, 7, 20, 15, 8, 7, 15, 17, 9, 9, 18, 9, 7, 15, 7, 7, 8, 9, 15, 6, 8, 20, 9, 9, 7, 7, 7, 15, 11, 7, 8, 15, 19, 8, 15, 15, 9, 13, 9, 15, 18, 16, 9, 15, 7, 8, 8, 15, 15, 18, 10, 15, 8, 18, 11, 8, 9, 8, 7, 8, 8, 16, 8, 7, 13, 9, 8, 8, 8, 6, 3, 15, 9, 15, 15, 15, 9, 18, 15, 15, 9, 7, 7, 7, 18, 8, 15, 15, 15, 6, 11, 15, 10, 19, 8, 7, 8, 7, 19, 11, 6, 7, 15, 13, 9, 7, 8, 8, 7, 11, 8, 8, 9, 15, 18, 9, 8, 7, 7, 9, 15, 15, 15, 6, 18, 8, 8, 8, 7, 9, 7, 15, 15, 7, 8, 9, 7, 16, 7, 7, 7, 13, 7, 18, 16, 7, 15, 8, 8, 18, 12, 7, 18, 13, 15, 19, 18, 8, 7, 16, 9, 16, 18, 7, 10, 8, 15, 8, 6, 10, 9, 7, 8, 8, 8, 15, 15, 7, 8, 7, 15, 15, 7, 9, 9, 6, 15, 15, 9, 15, 9, 7, 9, 8, 8, 16, 18, 15, 7, 7, 15, 3, 13, 8, 16, 16, 8, 19, 9, 15, 8, 15, 7, 7, 8, 8, 7, 6, 9, 8, 8, 15, 7, 7, 7, 0, 8, 7, 8, 17, 15, 6, 9, 8, 7, 13, 13, 15, 15, 15, 8, 7, 19, 16, 8, 15, 3, 9, 8, 6, 9, 18, 7, 15, 8, 18, 7, 7, 8, 13, 8, 9, 10, 13, 8, 7, 9, 9, 9, 8, 19, 7, 7, 15, 8, 15, 20, 9, 18, 9, 7, 8, 18, 8, 15, 7, 7, 9, 8, 6, 9, 8, 18, 18, 9, 8, 9, 15, 11, 8, 15, 15, 13, 8, 15, 8, 15, 15, 9, 20, 7, 8, 7, 15, 7, 6, 9, 20, 6, 9, 9, 7, 8, 7, 19, 20, 9, 15, 15, 8, 8, 9, 7, 8, 6, 15, 18, 8, 9, 9, 6, 7, 13, 4, 7, 15, 18, 18, 7, 8, 8, 8, 7, 15, 20, 18, 7, 20, 9, 15, 7, 9, 7, 15, 15, 7, 7, 7, 7, 7, 15, 8, 7, 7, 7, 15, 15, 20, 8, 18, 7, 15, 9, 11, 7, 9, 8, 9, 8, 9, 8, 7, 7, 8, 8, 15, 16, 9, 18, 15, 15, 8, 15, 13, 8, 9, 18, 8, 7, 6, 9, 15, 8, 7, 10, 8, 11, 8, 15, 7, 8, 7, 7, 15, 15, 6, 7, 15, 8, 8, 15, 13, 15, 7, 7, 7, 9, 18, 7, 6, 7, 9, 6, 6, 11, 10, 9, 9, 8, 11, 9, 15, 15, 7, 3, 8, 15, 9, 8, 7, 7, 18, 15, 15, 13, 11, 7, 15, 16, 8, 7, 15, 7, 11, 7, 15, 18, 15, 7, 7, 8, 15, 6, 8, 13, 8, 18, 15, 16, 18, 8, 7, 10, 3, 9, 17, 7, 7, 15, 9, 15, 9, 18, 9, 8, 13, 9, 7, 7, 18, 8, 8, 9, 8, 15, 9, 15, 15, 15, 9, 8, 8, 6, 15, 8, 7, 15, 10, 8, 11, 8, 8, 15, 15, 8, 8, 8, 14, 6, 16, 18, 10, 8, 8, 6, 19, 19, 7, 18, 15, 19, 19, 7, 9, 18, 11, 6, 7, 13, 8, 8, 7, 9, 18, 9, 7, 3, 18, 15, 8, 15, 3, 15, 7, 15, 6, 13, 8, 11, 6, 18, 8, 18, 8, 7, 11, 9, 6, 6, 8, 8, 7, 7, 15, 9, 9, 9, 16, 7, 17, 9, 7, 7, 9, 7, 9, 3, 15, 18, 7, 13, 7, 7, 8, 9, 6, 9, 6, 18, 18, 18, 18, 15, 3, 13, 6, 10, 9, 18, 7, 7, 11, 8, 6, 9, 8, 8, 9, 18, 16, 18, 7, 9, 6, 8, 9, 8, 15, 10, 15, 9, 6, 9, 15, 3, 8, 0, 15, 15, 15, 15, 19, 7, 10, 15, 8, 8, 9, 15, 8, 18, 7, 15, 18, 15, 15, 8, 7, 9, 17, 18, 0, 15, 15, 9, 7, 13, 9, 7, 8, 10, 15, 8, 7, 6, 9, 15, 7, 7, 9, 15, 10, 7, 7, 18, 9, 15, 8, 7, 8, 9, 8, 9, 18, 13, 15, 19, 15, 11, 15, 15, 9, 7, 15, 7, 7, 9, 7, 16, 8, 7, 9, 11, 9, 4, 15, 18, 3, 7, 8, 3, 7, 7, 6, 10, 9, 8, 7, 16, 0, 9, 15, 15, 15, 15, 20, 9, 7, 13, 9, 8, 7, 15, 9, 11, 11, 3, 6, 9, 7, 7, 7, 15, 16, 15, 15, 9, 6, 8, 9, 7, 7, 7, 9, 15, 9, 15, 11, 9, 9, 15, 8, 9, 11, 15, 8, 16, 9, 7, 8, 8, 15, 8, 15, 15, 8, 8, 9, 11, 10, 8, 8, 11, 7, 7, 7, 15, 11, 7, 15, 7, 7, 8, 6, 9, 8, 7, 8, 8, 18, 7, 15, 7, 15, 19, 7, 8, 8, 10, 11, 7, 7, 9, 9, 20, 7, 9, 7, 6, 9, 7, 9, 7, 9, 15, 8, 8, 20, 15, 7, 7, 10, 18, 10, 9, 8, 15, 9, 7, 7, 9, 20, 10, 13, 8, 9, 9, 18, 20, 7, 11, 18, 16, 0, 7, 8, 13, 9, 6, 7, 8, 8, 9, 15, 8, 8, 7, 18, 7, 9, 3, 18, 6, 15, 20, 7, 18, 18, 9, 9, 8, 18, 9, 15, 9, 7, 6, 18, 18, 8, 18, 6, 13, 15, 7, 3, 7, 8, 7, 9, 18, 8, 6, 15, 8, 15, 7, 8, 8, 7, 7, 7, 8, 18, 9, 6, 18, 13, 9, 9, 7, 7, 15, 7, 7, 15, 15, 15, 0, 7, 18, 13, 8, 7, 15, 8, 9, 18, 17, 9, 7, 7, 18, 18, 11, 16, 6, 7, 16, 15, 9, 18, 8, 7, 15, 17, 19, 17, 17, 8, 7, 16, 6, 8, 15, 8, 15, 15, 18, 15, 8, 7, 16, 15, 15, 7, 15, 16, 13, 7, 8, 7, 15, 9, 7, 8, 0, 7, 9, 10, 8, 8, 9, 8, 15, 7, 16, 7, 6, 8, 9, 11, 7, 15, 9, 15, 7, 15, 15, 9, 11, 8, 15, 13, 20, 8, 9, 7, 7, 15, 7, 15, 7, 15, 19, 7, 20, 8, 11, 7, 11, 13, 7, 7, 0, 7, 16, 9, 3, 7, 7, 15, 7, 8, 7, 7, 7, 13, 8, 7, 13, 15, 7, 6, 3, 0, 8, 8, 10, 15, 9, 18, 8, 9, 7, 15, 6, 15, 8, 18, 8, 7, 13, 7, 18, 7, 9, 9, 16, 18, 16, 8, 8, 19, 8, 10, 11, 15, 8, 8, 8, 13, 9, 6, 9, 8, 15, 15, 9, 9, 10, 6, 7, 13, 6, 10, 7, 8, 9, 8, 18, 9, 18, 6, 6, 14, 13, 18, 8, 3, 15, 4, 19, 15, 9, 16, 9, 18, 9, 7, 15, 11, 8, 7, 7, 8, 19, 10, 7, 3, 7, 9, 18, 9, 15, 16, 7, 7, 9, 8, 8, 16, 7, 8, 18, 8, 8, 4, 8, 15, 9, 8, 8, 10, 7, 9, 8, 9, 8, 3, 8, 15, 8, 8, 16, 13, 15, 16, 16, 13, 19, 7, 16, 3, 7, 15, 8, 8, 13, 8, 6, 15, 8, 8, 8, 9, 7, 15, 8, 8, 13, 7, 9, 15, 3, 18, 9, 3, 15, 6, 15, 9, 20, 9, 8, 7, 9, 9, 19, 15, 8, 9, 7, 13, 9, 15, 9, 15, 11, 8, 15, 9, 8, 15, 8, 7, 6, 18, 9, 20, 15, 9, 8, 7, 9, 8, 9, 8, 8, 7, 15, 8, 15, 7, 15, 15, 7, 15, 18, 8, 18, 7, 9, 9, 8, 13, 18, 8, 10, 7, 7, 15, 8, 7, 8, 8, 9, 7, 15, 6, 15, 8, 8, 18, 15, 0, 7, 15, 8, 13, 10, 7, 15, 11, 7, 13, 16, 7, 18, 8, 7, 9, 9, 7, 7, 15, 15, 6, 15, 9, 6, 8, 9, 15, 15, 9, 7, 8, 20, 15, 15, 7, 8, 15, 8, 15, 19, 11, 18, 8, 8, 15, 18, 8, 8, 13, 15, 8, 8, 9, 18, 11, 7, 15, 13, 13, 9, 8, 18, 8, 19, 7, 8, 18, 7, 9, 19, 15, 8, 8, 15, 7, 7, 6, 15, 8, 8, 16, 8, 18, 6, 15, 10, 15, 8, 15, 19, 17, 7, 6, 7, 9, 7, 7, 7, 9, 7, 9, 20, 15, 7, 15, 15, 7, 13, 6, 9, 8, 10, 18, 3, 8, 7, 7, 15, 17, 19, 8, 7, 8, 15, 8, 15, 8, 15, 9, 9, 8, 9, 15, 7, 9, 7, 7, 7, 7, 15, 15, 16, 6, 9, 18, 8, 9, 15, 15, 15, 15, 7, 7, 7, 16, 13, 9, 8, 15, 7, 4, 11, 8, 6, 9, 15, 9, 9, 9, 15, 8, 9, 16, 8, 6, 13, 8, 15, 15, 7, 10, 6, 7, 15, 9, 8, 18, 13, 6, 0, 8, 9, 8, 8, 13, 9, 8, 8, 7, 9, 7, 8, 8, 13, 18, 15, 10, 7, 11, 7, 7, 9, 8, 8, 9, 9, 16, 9, 7, 8, 7, 18, 8, 7, 18, 6, 18, 16, 8, 7, 7, 7, 7, 8, 8, 6, 9, 7, 18, 13, 9, 6, 8, 7, 8, 7, 7, 19, 7, 16, 11, 0, 7, 16, 7, 7, 15, 7, 7, 18, 7, 16, 18, 10, 20, 18, 9, 9, 3, 8, 17, 17, 8, 7, 7, 16, 8, 8, 11, 6, 7, 8, 19, 9, 7, 7, 8, 9, 9, 16, 7, 13, 7, 15, 7, 15, 15, 18, 16, 8, 15, 8, 9, 7, 7, 8, 9, 10, 8, 15, 16, 9, 7, 15, 7, 16, 15, 9, 13, 8, 15, 8, 15, 7, 15, 9, 9, 15, 17, 8, 8, 9, 10, 7, 7, 15, 8, 8, 7, 7, 16, 7, 9, 19, 9, 8, 9, 16, 15, 18, 15, 7, 8, 15, 8, 10, 15, 6, 9, 15, 8, 7, 18, 7, 6, 15, 10, 8, 15, 8, 3, 8, 13, 15, 13, 18, 9, 16, 9, 7, 8, 9, 18, 15, 9, 8, 6, 8, 9, 9, 15, 9, 8, 15, 10, 15, 7, 8, 7, 9, 9, 20, 8, 17, 11, 15, 19, 15, 9, 8, 18, 7, 7, 7, 16, 7, 15, 8, 9, 6, 8, 8, 7, 20, 7, 9, 18, 8, 19, 11, 15, 18, 8, 8, 7, 7, 11, 9, 13, 7, 16, 15, 8, 7, 8, 11, 8, 9, 18, 15, 15, 7, 3, 9, 9, 9, 8, 18, 16, 8, 8, 9, 10, 15, 10, 15, 15, 19, 15, 8, 7, 19, 8, 8, 7, 18, 16, 9, 7, 18, 8, 8, 9, 6, 8, 7, 17, 8, 9, 7, 8, 9, 8, 8, 7, 7, 20, 15, 6, 8, 7, 11, 7, 8, 15, 15, 7, 0, 9, 16, 15, 8, 9, 7, 9, 16, 15, 15, 8, 16, 10, 7, 15, 15, 7, 15, 9, 9, 20, 9, 9, 11, 9, 7, 7, 15, 7, 6, 7, 8, 10, 20, 6, 7, 15, 9, 13, 15, 11, 7, 7, 13, 13, 16, 18, 9, 11, 6, 15, 15, 15, 15, 6, 16, 9, 8, 7, 7, 9, 8, 16, 7, 17, 8, 9, 20, 8, 7, 6, 9, 8, 8, 15, 7, 9, 18, 9, 9, 19, 9, 20, 0, 9, 7, 8, 15, 9, 16, 9, 15, 8, 7, 8, 8, 7, 7, 18, 11, 7, 6, 6, 7, 8, 9, 9, 6, 7, 18, 8, 8, 15, 9, 7, 9, 18, 9, 7, 8, 8, 13, 8, 15, 18, 15, 8, 8, 15, 19, 16, 9, 15, 15, 7, 9, 10, 0, 7, 18, 9, 7, 20, 8, 9, 7, 8, 7, 15, 7, 7, 9, 7, 7, 8, 7, 7, 8, 13, 15, 9, 9, 8, 9, 8, 8, 7, 8, 0, 17, 7, 9, 8, 18, 15, 9, 8, 17, 18, 7, 7, 15, 8, 7, 9, 7, 18, 8, 7, 8, 7, 15, 18, 18, 9, 7, 15, 15, 13, 8, 9, 6, 15, 15, 9, 8, 7, 7, 6, 6, 8, 9, 9, 9, 7, 15, 9, 8, 15, 7, 15, 9, 8, 15, 15, 9, 8, 19, 7, 17, 7, 15, 8, 13, 11, 9, 10, 18, 15, 8, 8, 18, 9, 8, 7, 9, 15, 7, 3, 7, 7, 8, 7, 9, 7, 7, 11, 9, 15, 11, 9, 11, 7, 7, 8, 7, 9, 15, 8, 11, 9, 11, 7, 15, 15, 9, 7, 15, 8, 7, 8, 8, 7, 15, 9, 15, 9, 8, 15, 7, 13, 6, 7, 18, 7, 16, 18, 9, 15, 15, 15, 8, 16, 15, 10, 8, 8, 7, 8, 8, 7, 8, 19, 16, 8, 0, 7, 11, 6, 15, 7, 9, 15, 9, 3, 7, 9, 9, 9, 8, 7, 0, 7, 11, 17, 7, 16, 13, 9, 18, 9, 8, 7, 9, 18, 16, 15, 7, 7, 15, 9, 8, 8, 17, 8, 15, 9, 8, 9, 7, 8, 7, 13, 7, 8, 15, 8, 15, 7, 15, 7, 7, 19, 15, 3, 11, 6, 16, 8, 18, 15, 8, 3, 15, 15, 9, 7, 16, 9, 7, 8, 8, 9, 15, 15, 9, 9, 9, 18, 9, 7, 18, 17, 9, 8, 3, 7, 7, 17, 9, 9, 8, 9, 8, 7, 15, 16, 10, 9, 8, 7, 7, 8, 15, 8, 0, 13, 9, 9, 8, 15, 8, 7, 8, 19, 14, 7, 7, 7, 8, 3, 7, 15, 9, 8, 18, 11, 7, 15, 9, 8, 9, 7, 8, 13, 8, 16, 17, 8, 9, 9, 8, 11, 8, 17, 8, 11, 15, 9, 9, 9, 18, 20, 7, 17, 9, 8, 8, 9, 8, 9, 15, 6, 19, 9, 15, 7, 7, 9, 6, 15, 18, 8, 15, 15, 9, 9, 15, 18, 15, 6, 9, 7, 8, 9, 19, 15, 6, 7, 11, 8, 9, 8, 7, 15, 18, 7, 18, 18, 9, 15, 7, 7, 15, 13, 7, 16, 9, 15, 15, 15, 9, 7, 8, 15, 9, 10, 7, 0, 15, 9, 8, 7, 9, 8, 9, 9, 9, 11, 7, 8, 13, 9, 0, 9, 3, 18, 7, 7, 8, 8, 8, 8, 7, 15, 8, 15, 7, 7, 15, 8, 8, 9, 11, 16, 7, 9, 11, 6, 13, 18, 20, 15, 15, 18, 18, 15, 15, 7, 9, 8, 9, 7, 8, 8, 7, 9, 9, 19, 8, 15, 9, 18, 9, 7, 7, 8, 9, 8, 13, 15, 9, 8, 8, 8, 9, 18, 9, 18, 7, 15, 7, 11, 7, 7, 7, 7, 10, 6, 7, 10, 8, 6, 7, 8, 11, 8, 9, 11, 8, 8, 9, 7, 9, 8, 15, 15, 7, 8, 15, 7, 6, 7, 15, 3, 8, 7, 6, 15, 7, 15, 9, 8, 8, 7, 16, 15, 7, 11, 9, 7, 8, 20, 7, 11, 11, 6, 16, 9, 8, 7, 18, 8, 6, 9, 0, 19, 8, 16, 9, 15, 18, 18, 18, 8, 15, 11, 9, 6, 7, 15, 15, 17, 7, 9, 15, 9, 16, 8, 8, 6, 9, 7, 15, 8, 16, 20, 8, 9, 7, 17, 19, 3, 10, 15, 11, 7, 11, 18, 15, 15, 10, 7, 15, 6, 6, 16, 7, 16, 9, 19, 18, 7, 9, 7, 3, 18, 8, 15, 8, 15, 20, 7, 15, 15, 7, 8, 7, 9, 11, 8, 7, 15, 6, 18, 7, 9, 8, 7, 9, 6, 9, 15, 7, 8, 6, 16, 8, 15, 15, 11, 8, 15, 15, 15, 10, 7, 6, 7, 7, 7, 8, 16, 18, 6, 8, 7, 8, 7, 7, 18, 9, 8, 15, 9, 6, 18, 13, 7, 7, 13, 8, 15, 13, 8, 6, 7, 7, 11, 15, 16, 9, 3, 15, 10, 9, 15, 15, 15, 7, 8, 8, 16, 15, 3, 8, 8, 8, 10, 7, 7, 15, 7, 13, 15, 15, 15, 15, 7, 7, 18, 7, 7, 6, 7, 8, 9, 8, 9, 9, 8, 9, 9, 9, 15, 9, 10, 8, 10, 11, 18, 16, 15, 7, 15, 18, 7, 8, 8, 18, 8, 8, 9, 3, 7, 15, 15, 10, 8, 9, 16, 7, 9, 7, 18, 15, 9, 8, 17, 11, 7, 9, 15, 15, 9, 7, 15, 15, 9, 15, 16, 7, 19, 7, 9, 11, 8, 8, 16, 9, 6, 8, 15, 11, 7, 0, 8, 7, 7, 9, 9, 7, 8, 9, 11, 15, 13, 9, 16, 9, 18, 11, 7, 9, 10, 13, 15, 7, 6, 17, 8, 8, 8, 8, 9, 8, 20, 15, 7, 13, 8, 8, 8, 7, 10, 15, 20, 9, 11, 13, 9, 15, 10, 7, 3, 15, 4, 18, 7, 11, 10, 16, 15, 8, 7, 18, 8, 15, 9, 9, 15, 6, 13, 19, 8, 18, 9, 18, 9, 16, 20, 8, 19, 7, 8, 19, 11, 19, 18, 8, 7, 11, 9, 15, 7, 9, 9, 3, 18, 9, 8, 15, 4, 10, 8, 7, 15, 8, 8, 11, 17, 7, 7, 16, 15, 8, 9, 8, 9, 8, 8, 9, 8, 15, 8, 8, 15, 15, 3, 8, 15, 7, 15, 6, 7, 20, 13, 9, 0, 15, 8, 16, 9, 8, 7, 18, 9, 9, 11, 7, 7, 9, 15, 18, 13, 7, 18, 8, 8, 18, 9, 15, 18, 0, 8, 8, 15, 7, 13, 15, 7, 13, 6, 8, 15, 9, 11, 8, 8, 8, 7, 9, 7, 9, 8, 10, 9, 7, 7, 9, 7, 7, 9, 16, 6, 15, 8, 20, 20, 11, 9, 7, 9, 18, 7, 15, 7, 9, 8, 18, 15, 16, 7, 8, 16, 15, 15, 8, 9, 6, 8, 8, 7, 7, 11, 8, 6, 7, 7, 15, 7, 7, 18, 13, 9, 15, 7, 7, 7, 8, 15, 17, 13, 15, 7, 9, 15, 15, 7, 15, 7, 8, 7, 6, 9, 7, 9, 7, 20, 7, 13, 11, 7, 16, 9, 15, 15, 15, 6, 16, 9, 8, 15, 9, 7, 19, 9, 7, 9, 18, 6, 7, 7, 15, 7, 15, 7, 15, 11, 11, 9, 10, 15, 8, 15, 18, 8, 15, 9, 18, 9, 7, 7, 7, 0, 6, 9, 16, 18, 15, 15, 15, 7, 9, 15, 8, 15, 17, 15, 8, 15, 15, 11, 9, 18, 8, 15, 8, 6, 7, 11, 19, 19, 9, 15, 3, 8, 7, 9, 19, 6, 3, 18, 15, 7, 10, 7, 8, 9, 8, 15, 7, 10, 17, 9, 9, 11, 8, 9, 9, 11, 7, 7, 8, 8, 9, 16, 15, 7, 8, 15, 16, 6, 9, 7, 9, 8, 11, 18, 8, 7, 19, 9, 16, 9, 7, 15, 8, 7, 8, 18, 9, 15, 9, 15, 18, 7, 8, 9, 18, 15, 8, 7, 15, 15, 7, 6, 16, 9, 11, 7, 16, 8, 9, 15, 9, 0, 8, 8, 9, 16, 15, 15, 19, 11, 15, 7, 18, 9, 18, 8, 0, 8, 10, 8, 15, 15, 18, 17, 8, 8, 9, 8, 9, 4, 8, 15, 9, 15, 16, 9, 9, 10, 9, 7, 10, 18, 7, 18, 7, 7, 15, 15, 7, 7, 9, 18, 9, 7, 8, 3, 15, 7, 8, 17, 7, 8, 8, 15, 18, 9, 7, 13, 8, 15, 9, 6, 7, 10, 7, 9, 6, 9, 9, 15, 15, 11, 13, 8, 11, 9, 8, 9, 18, 20, 7, 11, 7, 15, 7, 13, 20, 7, 17, 3, 9, 13, 8, 9, 15, 16, 15, 3, 15, 8, 20, 0, 9, 9, 13, 15, 9, 16, 9, 9, 15, 7, 18, 7, 16, 9, 8, 7, 9, 18, 11, 16, 10, 9, 11, 15, 7, 13, 9, 9, 16, 9, 8, 15, 8, 7, 7, 19, 8, 19, 18, 9, 19, 8, 9, 11, 9, 8, 8, 8, 15, 15, 15, 15, 20, 19, 7, 7, 17, 8, 7, 11, 7, 9, 9, 9, 6, 7, 16, 18, 15, 15, 9, 15, 15, 9, 8, 13, 8, 9, 8, 8, 16, 4, 15, 15, 15, 7, 15, 6, 7, 10, 19, 9, 7, 13, 15, 15, 15, 15, 9, 18, 15, 19, 7, 15, 18, 15, 15, 11, 6, 11, 9, 15, 8, 9, 15, 7, 7, 8, 16, 11, 18, 19, 8, 7, 6, 6, 15, 16, 16, 13, 15, 15, 7, 7, 7, 7, 18, 7, 13, 18, 15, 7, 6, 7, 7, 9, 15, 7, 18, 9, 9, 7, 15, 16, 10, 15, 13, 15, 15, 8, 9, 8, 8, 8, 15, 6, 15, 9, 19, 20, 8, 15, 0, 8, 18, 15, 7, 7, 7, 11, 8, 8, 9, 7, 15, 7, 7, 15, 9, 11, 8, 7, 6, 19, 15, 15, 9, 15, 8, 18, 11, 8, 7, 7, 8, 15, 13, 6, 19, 15, 18, 8, 8, 6, 8, 16, 7, 7, 10, 9, 7, 8, 7, 15, 7, 7, 9, 15, 15, 18, 9, 8, 13, 10, 9, 6, 8, 8, 9, 6, 19, 9, 9, 8, 9, 8, 8, 18, 9, 7, 7, 7, 7, 11, 8, 9, 15, 9, 9, 9, 10, 7, 7, 7, 8, 7, 8, 20, 8, 9, 7, 15, 7, 8, 16, 9, 8, 15, 15, 7, 18, 7, 18, 9, 15, 11, 15, 6, 15, 8, 20, 9, 7, 8, 7, 7, 9, 9, 15, 6, 7, 8, 11, 19, 8, 6, 15, 8, 7, 18, 7, 15, 15, 15, 15, 7, 6, 19, 10, 7, 15, 15, 7, 6, 6, 8, 13, 8, 8, 18, 8, 16, 15, 8, 9, 8, 9, 8, 9, 7, 6, 7, 16, 15, 9, 15, 8, 10, 7, 18, 9, 9, 9, 6, 15, 9, 15, 10, 18, 9, 8, 11, 9, 8, 7, 16, 7, 8, 9, 9, 9, 9, 7, 19, 9, 18, 15, 15, 15, 8, 7, 8, 16, 7, 8, 15, 0, 8, 7, 8, 15, 15, 16, 15, 7, 8, 17, 10, 7, 16, 8, 17, 8, 8, 8, 11, 8, 18, 7, 7, 8, 15, 6, 8, 16, 9, 8, 8, 9, 15, 15, 15, 15, 16, 13, 11, 8, 8, 9, 7, 7, 6, 9, 8, 7, 18, 7, 8, 7, 7, 8, 7, 15, 16, 7, 8, 11, 0, 9, 7, 7, 9, 15, 7, 15, 9, 15, 9, 9, 18, 7, 7, 17, 19, 7, 9, 8, 8, 9, 7, 9, 13, 16, 11, 15, 7, 18, 15, 13, 18, 9, 7, 11, 9, 15, 15, 11, 7, 8, 9, 8, 8, 9, 18, 9, 9, 7, 7, 11, 13, 15, 15, 11, 15, 8, 7, 9, 15, 15, 6, 9, 19, 15, 9, 6, 4, 8, 7, 15, 10, 11, 15, 20, 9, 8, 9, 8, 11, 8, 8, 15, 19, 17, 8, 8, 9, 16, 15, 7, 8, 7, 19, 8, 7, 7, 7, 8, 9, 18, 8, 16, 18, 9, 7, 20, 8, 8, 7, 9, 8, 3, 8, 9, 8, 7, 7, 9, 15, 7, 15, 8, 7, 15, 8, 8, 7, 7, 10, 15, 8, 17, 9, 8, 18, 17, 18, 18, 7, 15, 19, 7, 8, 7, 8, 15, 7, 7, 8, 9, 9, 7, 13, 9, 6, 11, 9, 8, 18, 8, 15, 16, 9, 8, 11, 7, 15, 20, 18, 9, 20, 7, 8, 16, 7, 15, 18, 9, 8, 8, 6, 15, 7, 3, 19, 8, 6, 9, 15, 15, 8, 15, 9, 7, 6, 9, 9, 15, 7, 7, 19, 9, 15, 3, 7, 8, 9, 9, 6, 15, 1, 9, 11, 8, 15, 7, 7, 8, 7, 8, 11, 8, 9, 7, 15, 10, 4, 15, 8, 8, 18, 15, 9, 15, 8, 9, 9, 9, 3, 17, 8, 7, 8, 8, 18, 19, 8, 7, 7, 9, 8, 13, 15, 7, 9, 15, 15, 7, 7, 15, 8, 7, 8, 10, 15, 16, 8, 18, 19, 18, 8, 7, 13, 15, 9, 3, 19, 9, 8, 15, 15, 3, 8, 19, 9, 6, 18, 11, 9, 15, 8, 9, 13, 9, 9, 8, 11, 15, 15, 7, 7, 7, 17, 16, 7, 8, 9, 8, 15, 8, 15, 11, 9, 11, 18, 7, 18, 13, 18, 7, 7, 8, 9, 7, 15, 8, 9, 6, 18, 11, 7, 7, 9, 15, 6, 7, 15, 9, 9, 15, 8, 11, 15, 7, 7, 9, 9, 9, 9, 8, 9, 8, 8, 6, 15, 9, 7, 15, 7, 8, 9, 8, 8, 13, 13, 7, 15, 8, 11, 9, 7, 11, 8, 3, 3, 8, 10, 7, 8, 3, 16, 8, 6, 7, 13, 15, 8, 8, 15, 9, 17, 8, 3, 8, 7, 7, 3, 18, 8, 10, 8, 18, 7, 20, 8, 10, 8, 7, 7, 7, 8, 7, 7, 8, 9, 15, 7, 7, 7, 11, 6, 15, 6, 11, 7, 9, 13, 9, 7, 18, 8, 7, 15, 8, 8, 9, 7, 8, 6, 7, 7, 8, 8, 10, 8, 7, 11, 9, 15, 8, 7, 1, 15, 15, 8, 7, 9, 11, 18, 15, 15, 8, 6, 16, 16, 18, 8, 6, 11, 19, 9, 7, 9, 8, 11, 17, 15, 9, 16, 9, 9, 18, 8, 8, 17, 7, 9, 7, 15, 7, 18, 9, 9, 11, 7, 6, 8, 10, 17, 3, 8, 4, 8, 13, 7, 18, 7, 10, 7, 7, 8, 7, 13, 15, 8, 9, 19, 7, 9, 15, 9, 10, 7, 8, 8, 18, 15, 18, 8, 9, 15, 8, 8, 11, 8, 7, 15, 18, 13, 11, 8, 7, 7, 6, 7, 9, 8, 7, 7, 18, 9, 15, 15, 20, 9, 15, 9, 18, 7, 15, 7, 13, 15, 8, 9, 8, 15, 18, 7, 7, 8, 8, 15, 15, 8, 9, 18, 8, 7, 4, 15, 10, 7, 13, 8, 13, 9, 8, 13, 8, 13, 6, 8, 15, 7, 10, 9, 17, 15, 18, 6, 15, 18, 20, 9, 8, 18, 7, 9, 18, 9, 7, 6, 9, 15, 7, 9, 7, 8, 15, 8, 7, 13, 15, 18, 6, 9, 8, 9, 3, 7, 8, 7, 15, 8, 7, 9, 7, 15, 15, 8, 9, 8, 9, 18, 7, 15, 7, 9, 9, 7, 15, 15, 7, 8, 8, 7, 9, 10, 7, 7, 8, 9, 19, 7, 15, 17, 17, 15, 7, 15, 7, 6, 15, 9, 6, 7, 16, 7, 16, 6, 7, 9, 7, 8, 7, 8, 8, 7, 8, 15, 15, 15, 18, 15, 7, 8, 10, 15, 15, 8, 11, 7, 10, 9, 15, 15, 7, 8, 15, 7, 15, 9, 7, 7, 9, 6, 13, 8, 8, 8, 7, 15, 15, 6, 9, 8, 20, 9, 7, 15, 8, 8, 15, 8, 3, 7, 8, 9, 13, 8, 8, 6, 7, 18, 15, 9, 6, 15, 7, 8, 9, 15, 15, 7, 8, 8, 18, 18, 6, 9, 8, 8, 15, 7, 7, 15, 9, 8, 6, 15, 8, 13, 7, 9, 7, 10, 7, 7, 6, 8, 7, 15, 15, 0, 9, 15, 10, 15, 9, 18, 8, 15, 7, 7, 8, 7, 15, 9, 18, 9, 10, 8, 15, 19, 16, 8, 8, 15, 19, 15, 15, 9, 9, 8, 8, 17, 15, 15, 15, 7, 8, 3, 7, 6, 8, 11, 7, 9, 20, 9, 18, 7, 8, 13, 7, 8, 9, 7, 8, 7, 8, 9, 8, 11, 13, 8, 7, 15, 9, 13, 8, 8, 15, 7, 8, 8, 19, 15, 7, 7, 9, 6, 15, 19, 7, 15, 8, 7, 0, 8, 19, 7, 3, 8, 7, 9, 9, 9, 8, 13, 15, 0, 8, 8, 15, 7, 15, 8, 8, 8, 15, 9, 9, 19, 13, 8, 8, 8, 9, 15, 18, 8, 15, 11, 11, 10, 13, 7, 15, 15, 15, 13, 13, 7, 6, 3, 7, 15, 9, 18, 8, 15, 8, 3, 19, 7, 7, 9, 8, 6, 9, 11, 15, 15, 7, 7, 7, 18, 13, 17, 15, 7, 7, 9, 20, 18, 18, 7, 16, 7, 8, 6, 20, 8, 7, 16, 15, 9, 18, 18, 9, 8, 15, 15, 18, 9, 8, 13, 7, 7, 9, 15, 19, 7, 8, 8, 0, 7, 15, 15, 8, 9, 9, 15, 15, 15, 20, 8, 15, 7, 6, 9, 7, 7, 15, 15, 6, 8, 7, 16, 8, 7, 8, 8, 8, 8, 18, 6, 16, 9, 8, 7, 7, 7, 8, 7, 6, 8, 15, 9, 15, 18, 15, 3, 13, 16, 7, 8, 7, 8, 8, 16, 6, 9, 8, 15, 11, 10, 8, 6, 18, 9, 6, 17, 7, 10, 6, 9, 8, 8, 15, 9, 6, 18, 9, 9, 6, 9, 16, 9, 18, 9, 9, 11, 15, 9, 9, 9, 8, 7, 6, 0, 10, 9, 15, 18, 9, 19, 7, 15, 8, 15, 15, 7, 8, 16, 13, 8, 3, 17, 7, 18, 7, 8, 3, 7, 15, 8, 8, 15, 8, 9, 18, 7, 15, 11, 8, 17, 13, 9, 9, 7, 15, 9, 8, 7, 9, 18, 7, 8, 7, 8, 8, 15, 7, 7, 8, 15, 18, 8, 15, 8, 7, 8, 7, 6, 7, 15, 7, 9, 15, 8, 15, 9, 10, 8, 7, 8, 8, 13, 8, 8, 15, 8, 9, 15, 16, 18, 7, 8, 8, 6, 8, 7, 3, 15, 6, 15, 8, 8, 15, 8, 7, 15, 9, 15, 7, 11, 11, 9, 9, 15, 15, 9, 8, 15, 8, 8, 0, 7, 7, 11, 15, 7, 6, 9, 6, 15, 7, 7, 7, 16, 7, 6, 9, 15, 7, 18, 7, 7, 15, 6, 7, 11, 7, 7, 8, 11, 7, 7, 9, 20, 18, 7, 9, 18, 17, 15, 17, 8, 6, 8, 8, 9, 9, 7, 11, 7, 8, 9, 18, 7, 15, 8, 8, 15, 15, 7, 16, 15, 8, 8, 18, 19, 16, 15, 11, 7, 7, 15, 16, 8, 18, 9, 7, 9, 15, 9, 15, 7, 7, 15, 16, 6, 9, 0, 7, 7, 9, 0, 15, 8, 15, 8, 10, 15, 7, 10, 8, 15, 15, 7, 9, 15, 9, 15, 8, 15, 9, 8, 20, 7, 8, 7, 7, 9, 18, 7, 3, 8, 9, 9, 8, 8, 11, 8, 8, 18, 18, 15, 15, 7, 8, 8, 18, 8, 7, 7, 9, 9, 15, 7, 8, 6, 15, 8, 13, 15, 18, 15, 7, 11, 18, 8, 15, 15, 11, 15, 8, 8, 8, 15, 15, 10, 15, 7, 8, 3, 15, 8, 0, 15, 8, 7, 18, 8, 8, 15, 8, 9, 9, 7, 18, 9, 7, 8, 13, 7, 15, 7, 17, 8, 7, 8, 7, 16, 9, 13, 15, 9, 3, 15, 7, 8, 9, 15, 9, 19, 9, 7, 19, 10, 13, 9, 11, 15, 7, 9, 9, 15, 9, 9, 9, 8, 8, 7, 9, 17, 3, 8, 6, 16, 8, 15, 10, 9, 19, 8, 15, 15, 6, 7, 10, 7, 18, 19, 7, 8, 8, 15, 8, 7, 0, 9, 7, 9, 8, 8, 18, 13, 15, 7, 9, 7, 15, 7, 6, 9, 8, 9, 9, 16, 9, 8, 16, 11, 6, 15, 7, 7, 7, 9, 18, 18, 7, 8, 15, 9, 9, 9, 8, 19, 11, 19, 6, 11, 0, 7, 15, 6, 7, 10, 8, 8, 8, 8, 7, 7, 6, 7, 7, 8, 8, 19, 9, 18, 13, 18, 7, 15, 8, 9, 7, 8, 6, 16, 15, 8, 3, 10, 8, 15, 15, 11, 18, 6, 11, 7, 9, 9, 9, 6, 10, 10, 18, 11, 7, 7, 15, 15, 9, 15, 7, 6, 3, 8, 9, 8, 18, 6, 6, 15, 13, 8, 9, 8, 8, 7, 7, 9, 15, 7, 0, 13, 8, 15, 9, 18, 8, 18, 7, 7, 15, 8, 7, 8, 8, 13, 8, 8, 18, 15, 7, 15, 15, 8, 13, 8, 7, 19, 15, 15, 7, 19, 0, 10, 11, 18, 8, 15, 7, 8, 7, 6, 15, 8, 15, 9, 11, 9, 8, 13, 16, 7, 7, 9, 6, 15, 8, 7, 9, 7, 7, 7, 7, 7, 11, 7, 9, 7, 9, 6, 15, 8, 9, 9, 6, 15, 7, 15, 9, 8, 11, 8, 9, 15, 17, 9, 9, 9, 11, 7, 7, 7, 18, 20, 15, 15, 9, 18, 7, 8, 8, 7, 8, 6, 7, 7, 8, 15, 11, 8, 7, 15, 8, 9, 18, 8, 18, 8, 15, 15, 7, 7, 7, 8, 7, 7, 16, 7, 7, 3, 7, 3, 8, 18, 13, 8, 14, 18, 9, 8, 13, 8, 18, 15, 15, 18, 11, 8, 9, 18, 15, 18, 11, 9, 8, 7, 8, 11, 7, 9, 6, 9, 20, 8, 7, 8, 8, 8, 6, 8, 7, 8, 15, 16, 7, 15, 3, 16, 7, 8, 15, 7, 8, 8, 8, 9, 19, 7, 9, 9, 7, 15, 9, 7, 18, 15, 6, 6, 8, 15, 15, 19, 7, 17, 8, 11, 15, 7, 7, 8, 15, 16, 7, 7, 15, 18, 8, 7, 18, 9, 9, 7, 8, 18, 8, 20, 8, 7, 15, 15, 15, 9, 15, 9, 8, 7, 7, 7, 19, 7, 18, 7, 8, 6, 18, 9, 15, 15, 7, 8, 15, 7, 7, 7, 16, 9, 7, 15, 15, 6, 15, 11, 7, 8, 8, 18, 15, 15, 7, 18, 7, 7, 13, 8, 15, 9, 6, 15, 8, 6, 8, 7, 8, 15, 20, 7, 15, 8, 8, 13, 8, 6, 11, 8, 9, 7, 18, 7, 7, 18, 8, 18, 15, 9, 15, 9, 15, 8, 7, 11, 9, 7, 8, 7, 8, 9, 15, 11, 8, 15, 3, 13, 10, 9, 7, 7, 14, 8, 7, 18, 7, 9, 15, 9, 15, 9, 9, 11, 15, 6, 13, 9, 16, 15, 8, 6, 7, 15, 15, 9, 11, 7, 6, 9, 6, 13, 11, 15, 7, 8, 15, 7, 8, 15, 7, 20, 15, 9, 13, 15, 7, 9, 15, 8, 9, 8, 8, 18, 6, 18, 15, 7, 8, 6, 9, 6, 17, 7, 8, 7, 6, 15, 7, 7, 15, 17, 15, 8, 18, 6, 7, 16, 8, 9, 11, 15, 11, 9, 6, 15, 15, 8, 7, 15, 8, 15, 11, 18, 11, 7, 16, 9, 7, 8, 9, 8, 18, 10, 18, 7, 7, 8, 6, 8, 7, 10, 15, 15, 15, 15, 9, 8, 18, 8, 8, 16, 6, 7, 9, 13, 11, 9, 18, 20, 11, 13, 15, 9, 15, 9, 9, 11, 8, 8, 17, 18, 15, 7, 7, 15, 8, 15, 7, 8, 9, 7, 10, 7, 15, 9, 7, 8, 7, 7, 15, 7, 7, 15, 15, 15, 8, 8, 3, 17, 13, 15, 11, 9, 19, 8, 9, 8, 7, 7, 9, 9, 15, 7, 7, 15, 6, 6, 9, 16, 6, 7, 7, 17, 13, 8, 7, 18, 11, 15, 7, 15, 9, 15, 8, 18, 7, 9, 16, 8, 8, 7, 8, 15, 16, 8, 8, 18, 7, 7, 18, 8, 18, 15, 11, 17, 13, 6, 15, 8, 6, 15, 15, 8, 7, 15, 9, 7, 7, 9, 8, 15, 10, 8, 8, 15, 9, 10, 20, 7, 9, 15, 6, 16, 7, 9, 9, 9, 7, 15, 11, 8, 9, 7, 4, 11, 7, 8, 15, 8, 8, 15, 10, 16, 9, 9, 7, 8, 13, 7, 7, 9, 8, 7, 8, 8, 7, 6, 7, 15, 9, 7, 8, 9, 9, 9, 8, 18, 11, 7, 9, 13, 15, 9, 15, 7, 7, 8, 15, 8, 6, 18, 20, 15, 15, 8, 15, 6, 15, 10, 11, 7, 8, 6, 9, 9, 20, 9, 18, 7, 18, 13, 6, 8, 15, 16, 7, 9, 9, 19, 18, 8, 15, 7, 15, 18, 7, 7, 18, 7, 15, 9, 9, 18, 3, 7, 15, 8, 7, 9, 7, 17, 7, 15, 16, 7, 9, 20, 9, 15, 6, 8, 9, 8, 7, 9, 9, 19, 18, 9, 8, 9, 8, 8, 19, 18, 8, 8, 14, 9, 9, 15, 8, 8, 15, 8, 7, 8, 8, 7, 18, 18, 8, 7, 15, 9, 8, 15, 0, 7, 8, 16, 7, 19, 18, 11, 7, 7, 18, 15, 15, 15, 15, 18, 8, 7, 9, 8, 7, 9, 15, 15, 8, 20, 8, 8, 10, 13, 15, 7, 7, 9, 8, 7, 11, 15, 9, 9, 15, 15, 13, 9, 18, 9, 16, 9, 7, 9, 7, 7, 8, 19, 9, 7, 8, 8, 8, 10, 7, 7, 8, 9, 18, 7, 9, 11, 15, 7, 8, 7, 6, 6, 7, 9, 6, 7, 8, 20, 13, 16, 18, 8, 8, 9, 8, 15, 7, 15, 18, 9, 15, 7, 8, 15, 7, 18, 7, 15, 15, 19, 7, 9, 9, 9, 7, 9, 18, 8, 15, 15, 7, 9, 15, 18, 3, 7, 17, 9, 11, 8, 8, 18, 9, 11, 8, 19, 7, 9, 8, 16, 19, 7, 7, 15, 13, 16, 7, 16, 19, 18, 8, 9, 15, 8, 9, 8, 11, 7, 7, 15, 8, 8, 8, 15, 7, 8, 7, 9, 8, 8, 18, 16, 9, 8, 7, 8, 9, 8, 8, 11, 7, 6, 7, 11, 19, 9, 8, 18, 7, 8, 8, 9, 9, 18, 8, 7, 18, 8, 8, 4, 9, 13, 15, 15, 6, 8, 19, 15, 8, 7, 15, 7, 11, 11, 7, 11, 8, 9, 8, 7, 15, 7, 15, 15, 15, 7, 8, 7, 7, 7, 15, 7, 15, 11, 7, 8, 8, 8, 18, 9, 15, 15, 7, 18, 18, 8, 7, 7, 8, 9, 7, 7, 3, 8, 9, 16, 15, 8, 7, 9, 9, 15, 7, 18, 10, 16, 18, 18, 7, 18, 7, 15, 15, 20, 7, 7, 11, 11, 6, 9, 7, 20, 3, 9, 7, 9, 15, 16, 7, 9, 7, 8, 11, 13, 18, 15, 6, 8, 6, 10, 6, 7, 6, 9, 15, 9, 7, 13, 17, 9, 15, 15, 6, 15, 18, 8, 15, 7, 10, 8, 7, 15, 7, 8, 9, 17, 18, 8, 17, 9, 16, 8, 9, 19, 3, 8, 8, 15, 20, 3, 3, 18, 13, 15, 8, 8, 9, 18, 9, 8, 8, 9, 8, 15, 9, 13, 6, 15, 6, 11, 7, 8, 20, 9, 9, 18, 7, 6, 9, 15, 18, 7, 15, 9, 8, 11, 7, 6, 13, 8, 8, 7, 18, 6, 9, 6, 7, 18, 8, 15, 16, 7, 15, 7, 8, 7, 7, 8, 15, 8, 8, 8, 7, 8, 15, 3, 15, 15, 15, 11, 11, 15, 8, 9, 8, 10, 8, 8, 9, 7, 8, 8, 15, 9, 7, 10, 15, 11, 7, 14, 9, 11, 7, 15, 8, 8, 15, 15, 9, 8, 8, 18, 8, 15, 11, 9, 10, 9, 9, 8, 18, 10, 15, 8, 8, 15, 8, 15, 7, 9, 8, 9, 18, 9, 3, 7, 8, 8, 7, 15, 8, 11, 7, 9, 9, 7, 15, 15, 8, 15, 9, 8, 15, 13, 15, 9, 7, 9, 15, 7, 7, 9, 9, 8, 15, 3, 15, 15, 9, 8, 15, 9, 20, 20, 15, 7, 20, 7, 18, 9, 8, 8, 6, 20, 11, 11, 6, 8, 18, 8, 10, 7, 8, 6, 9, 9, 8, 7, 7, 9, 18, 15, 7, 8, 8, 7, 9, 8, 8, 8, 8, 9, 15, 8, 9, 8, 7, 9, 11, 8, 9, 9, 9, 9, 11, 6, 7, 8, 7, 15, 7, 15, 9, 15, 9, 15, 18, 18, 7, 15, 9, 7, 7, 11, 9, 9, 9, 7, 8, 8, 8, 9, 7, 8, 18, 9, 8, 15, 17, 16, 7, 9, 8, 15, 10, 7, 15, 7, 7, 8, 18, 16, 7, 9, 15, 18, 7, 7, 7, 7, 8, 13, 9, 9, 15, 15, 8, 7, 7, 18, 16, 13, 8, 15, 16, 8, 8, 8, 7, 7, 15, 8, 16, 8, 8, 8, 7, 8, 15, 19, 11, 15, 15, 15, 7, 10, 10, 18, 15, 8, 8, 15, 3, 9, 9, 9, 7, 0, 15, 7, 18, 16, 8, 15, 16, 9, 18, 9, 19, 7, 7, 15, 15, 8, 9, 13, 6, 18, 15, 7, 7, 9, 8, 8, 18, 13, 15, 8, 8, 11, 8, 15, 15, 7, 9, 10, 6, 7, 6, 7, 11, 6, 7, 9, 8, 7, 8, 15, 8, 8, 9, 15, 15, 9, 13, 16, 16, 9, 8, 20, 16, 7, 8, 16, 0, 19, 7, 9, 9, 0, 7, 7, 8, 7, 16, 16, 15, 18, 8, 13, 7, 6, 11, 9, 15, 15, 11, 15, 20, 9, 11, 8, 7, 15, 15, 7, 9, 11, 16, 8, 8, 8, 9, 7, 11, 7, 15, 15, 11, 11, 7, 8, 7, 9, 8, 15, 8, 18, 9, 11, 9, 15, 9, 15, 10, 7, 6, 7, 15, 13, 8, 8, 9, 8, 7, 18, 10, 20, 7, 18, 15, 9, 18, 8, 17, 3, 13, 7, 8, 6, 9, 3, 10, 9, 3, 11, 8, 15, 9, 19, 19, 3, 19, 15, 15, 8, 7, 16, 20, 8, 15, 9, 15, 7, 18, 8, 18, 18, 7, 8, 8, 3, 7, 9, 15, 15, 7, 8, 13, 9, 7, 8, 7, 15, 9, 9, 19, 3, 9, 11, 6, 16, 8, 7, 15, 18, 15, 7, 9, 8, 3, 20, 8, 9, 15, 9, 15, 20, 9, 9, 6, 19, 8, 9, 8, 3, 13, 9, 7, 10, 9, 15, 6, 16, 16, 8, 3, 16, 7, 9, 7, 15, 7, 13, 8, 18, 20, 7, 9, 8, 19, 15, 16, 11, 8, 8, 7, 16, 8, 7, 9, 8, 7, 16, 18, 7, 3, 17, 7, 15, 9, 9, 15, 15, 15, 7, 8, 15, 9, 7, 7, 14, 9, 0, 9, 13, 6, 9, 3, 6, 11, 8, 8, 15, 8, 8, 18, 18, 19, 7, 8, 8, 8, 7, 8, 7, 15, 6, 17, 10, 9, 18, 9, 8, 15, 8, 7, 7, 7, 6, 9, 11, 7, 3, 7, 19, 8, 8, 7, 15, 9, 8, 8, 18, 7, 7, 7, 7, 15, 9, 16, 17, 7, 20, 10, 7, 15, 16, 7, 8, 11, 8, 19, 7, 16, 9, 18, 16, 9, 16, 9, 9, 7, 9, 19, 15, 7, 7, 15, 15, 7, 8, 7, 18, 6, 8, 15, 11, 9, 9, 7, 6, 18, 18, 8, 6, 9, 9, 7, 16, 7, 8, 15, 9, 18, 13, 15, 15, 13, 15, 8, 8, 18, 6, 8, 6, 8, 7, 9, 7, 7, 7, 8, 15, 20, 9, 9, 10, 8, 9, 7, 15, 15, 9, 7, 13, 8, 9, 6, 3, 7, 8, 15, 17, 9, 18, 18, 8, 9, 18, 8, 18, 7, 7, 7, 7, 7, 15, 7, 8, 15, 6, 11, 9, 9, 13, 13, 18, 14, 7, 15, 8, 7, 18, 8, 7, 15, 6, 3, 9, 7, 7, 15, 9, 8, 17, 13, 19, 9, 15, 10, 7, 9, 15, 15, 9, 9, 16, 3, 9, 6, 8, 6, 6, 7, 9, 7, 11, 15, 19, 18, 6, 6, 7, 8, 15, 9, 8, 9, 8, 9, 8, 9, 9, 17, 9, 9, 8, 7, 7, 15, 9, 8, 15, 10, 18, 9, 6, 7, 9, 8, 3, 7, 8, 6, 8, 7, 7, 16, 9, 8, 10, 9, 9, 6, 7, 15, 8, 15, 15, 8, 9, 15, 7, 18, 15, 9, 6, 19, 7, 9, 18, 7, 16, 7, 7, 9, 7, 8, 7, 8, 8, 11, 10, 7, 15, 7, 15, 15, 7, 9, 8, 7, 8, 15, 15, 15, 20, 9, 13, 15, 15, 6, 11, 10, 15, 15, 16, 17, 8, 9, 11, 8, 20, 15, 9, 9, 19, 7, 11, 9, 15, 16, 13, 10, 7, 15, 19, 7, 3, 8, 7, 11, 7, 9, 14, 8, 8, 8, 7, 11, 13, 8, 16, 9, 15, 20, 8, 9, 18, 20, 7, 18, 9, 15, 13, 8, 15, 9, 13, 3, 15, 15, 8, 6, 15, 15, 15, 6, 15, 15, 8, 8, 7, 15, 10, 8, 8, 7, 16, 13, 15, 7, 16, 18, 17, 7, 14, 18, 18, 7, 9, 8, 8, 7, 15, 9, 19, 15, 18, 8, 13, 8, 15, 8, 15, 15, 11, 15, 15, 8, 6, 15, 13, 18, 13, 16, 3, 8, 8, 15, 9, 7, 9, 10, 15, 7, 8, 8, 9, 15, 7, 9, 15, 8, 9, 9, 3, 8, 8, 7, 9, 15, 8, 7, 7, 8, 9, 9, 6, 7, 9, 8, 8, 8, 18, 15, 8, 15, 15, 13, 15, 8, 15, 7, 16, 7, 7, 8, 15, 7, 9, 9, 7, 15, 15, 3, 6, 8, 8, 7, 8, 15, 11, 8, 9, 11, 6, 8, 8, 19, 15, 7, 18, 8, 6, 8, 8, 7, 15, 9, 7, 18, 9, 15, 7, 7, 9, 8, 18, 16, 7, 18, 18, 7, 15, 8, 8, 13, 15, 18, 18, 8, 7, 15, 10, 7, 9, 6, 8, 0, 15, 9, 7, 17, 7, 8, 6, 9, 11, 13, 7, 13, 8, 15, 16, 15, 15, 9, 8, 3, 8, 15, 15, 15, 8, 11, 13, 15, 19, 8, 8, 7, 6, 15, 7, 15, 7, 8, 15, 8, 13, 8, 7, 19, 9, 8, 7, 8, 7, 15, 7, 15, 11, 7, 7, 8, 15, 8, 9, 9, 20, 6, 19, 13, 16, 19, 15, 15, 8, 13, 13, 8, 16, 7, 7, 7, 15, 7, 11, 11, 15, 8, 9, 9, 8, 7, 8, 9, 7, 7, 9, 7, 15, 7, 7, 9, 9, 7, 15, 7, 17, 7, 7, 9, 15, 11, 15, 9, 8, 8, 7, 8, 7, 9, 8, 7, 15, 7, 9, 15, 10, 8, 19, 16, 15, 9, 8, 9, 18, 18, 9, 9, 15, 9, 7, 13, 8, 15, 8, 8, 18, 18, 11, 7, 15, 15, 15, 8, 15, 7, 10, 15, 17, 8, 20, 17, 8, 6, 15, 18, 13, 15, 11, 20, 8, 15, 11, 7, 8, 7, 7, 9, 9, 15, 8, 7, 18, 9, 8, 9, 7, 15, 19, 7, 15, 8, 0, 15, 6, 6, 7, 9, 8, 15, 7, 9, 9, 9, 7, 19, 16, 6, 8, 15, 6, 7, 7, 7, 15, 7, 9, 15, 15, 15, 15, 7, 8, 9, 6, 9, 13, 6, 11, 9, 17, 7, 8, 18, 8, 8, 9, 7, 7, 7, 9, 8, 15, 9, 6, 15, 8, 15, 13, 9, 7, 10, 7, 15, 7, 7, 7, 3, 8, 7, 18, 9, 8, 9, 15, 15, 8, 18, 15, 7, 7, 15, 7, 7, 18, 15, 18, 15, 15, 7, 7, 8, 17, 9, 8, 8, 0, 15, 7, 18, 8, 8, 15, 6, 7, 0, 9, 15, 8, 7, 7, 8, 15, 18, 13, 15, 15, 13, 8, 13, 13, 15, 8, 8, 8, 3, 7, 15, 18, 15, 8, 6, 10, 3, 6, 20, 8, 9, 8, 11, 15, 15, 7, 10, 9, 11, 8, 7, 13, 9, 13, 8, 0, 7, 19, 15, 8, 18, 7, 9, 19, 7, 11, 15, 15, 15, 7, 9, 9, 8, 8, 15, 15, 9, 7, 8, 15, 11, 13, 8, 15, 7, 10, 18, 7, 15, 6, 9, 18, 3, 7, 9, 15, 8, 8, 8, 9, 7, 16, 9, 8, 17, 16, 6, 15, 18, 15, 16, 10, 15, 15, 7, 7, 3, 7, 15, 19, 8, 6, 7, 9, 6, 8, 8, 20, 9, 8, 6, 10, 15, 9, 8, 7, 15, 18, 15, 16, 8, 15, 15, 10, 8, 16, 8, 8, 20, 7, 9, 18, 13, 11, 19, 3, 7, 13, 8, 7, 9, 15, 7, 7, 15, 15, 18, 11, 11, 9, 8, 7, 16, 7, 7, 7, 0, 18, 8, 9, 10, 9, 9, 17, 9, 16, 8, 15, 7, 16, 8, 18, 8, 6, 7, 9, 16, 0, 3, 13, 7, 7, 9, 9, 11, 8, 10, 16, 17, 13, 15, 15, 15, 8, 8, 11, 11, 9, 7, 8, 7, 11, 15, 8, 15, 7, 13, 9, 7, 15, 10, 16, 16, 9, 8, 8, 9, 9, 7, 8, 7, 7, 15, 8, 8, 15, 9, 7, 8, 15, 9, 15, 7, 7, 9, 19, 7, 9, 8, 9, 9, 9, 15, 9, 18, 15, 20, 15, 11, 15, 9, 15, 10, 7, 8, 7, 18, 15, 8, 11, 9, 18, 7, 11, 9, 6, 8, 7, 7, 8, 15, 15, 7, 16, 7, 10, 13, 8, 15, 8, 6, 10, 13, 8, 8, 19, 15, 10, 7, 18, 8, 9, 8, 9, 15, 11, 7, 3, 7, 8, 15, 8, 6, 6, 6, 8, 15, 15, 7, 3, 8, 8, 3, 8, 15, 0, 8, 19, 9, 15, 8, 8, 7, 9, 7, 6, 15, 16, 8, 7, 15, 7, 7, 7, 7, 8, 8, 7, 7, 9, 15, 15, 8, 13, 16, 15, 18, 8, 8, 16, 7, 8, 7, 12, 7, 20, 15, 8, 8, 17, 15, 15, 9, 20, 8, 8, 6, 16, 15, 7, 17, 10, 7, 9, 9, 18, 8, 10, 15, 15, 8, 4, 15, 9, 16, 9, 15, 19, 9, 15, 9, 9, 7, 15, 9, 7, 18, 7, 17, 9, 9, 20, 6, 8, 18, 16, 19, 11, 16, 15, 8, 18, 8, 15, 15, 8, 10, 19, 15, 15, 15, 15, 8, 7, 15, 7, 15, 7, 8, 9, 7, 9, 13, 18, 8, 7, 15, 8, 8, 7, 13, 18, 8, 11, 15, 8, 9, 8, 15, 18, 7, 9, 8, 15, 13, 15, 7, 11, 6, 13, 8, 8, 7, 8, 8, 20, 13, 7, 13, 8, 8, 13, 19, 15, 8, 16, 8, 8, 8, 8, 8, 20, 3, 11, 9, 9, 7, 8, 15, 15, 15, 8, 7, 19, 7, 6, 8, 9, 7, 9, 7, 9, 16, 9, 6, 17, 16, 11, 15, 7, 7, 13, 16, 9, 18, 11, 3, 15, 8, 8, 8, 15, 17, 11, 8, 9, 8, 7, 8, 9, 18, 15, 8, 7, 9, 8, 9, 9, 8, 18, 20, 7, 7, 7, 8, 8, 15, 9, 7, 11, 18, 9, 9, 9, 9, 8, 18, 18, 9, 7, 18, 18, 7, 7, 20, 9, 9, 8, 15, 15, 8, 16, 7, 16, 15, 15, 7, 15, 11, 20, 8, 11, 7, 8, 9, 7, 9, 15, 16, 16, 7, 9, 8, 8, 16, 3, 15, 15, 15, 15, 11, 8, 9, 9, 8, 9, 15, 7, 9, 15, 18, 8, 15, 9, 8, 11, 8, 15, 0, 7, 13, 6, 15, 8, 9, 16, 9, 6, 9, 9, 7, 18, 13, 8, 15, 18, 7, 9, 16, 8, 8, 18, 20, 7, 15, 8, 19, 19, 15, 8, 9, 20, 16, 9, 6, 18, 7, 15, 8, 6, 15, 7, 15, 15, 15, 18, 7, 7, 7, 18, 15, 11, 9, 15, 9, 7, 8, 8, 7, 7, 7, 7, 7, 7, 8, 9, 15, 15, 15, 9, 8, 17, 8, 8, 8, 9, 7, 18, 9, 9, 7, 7, 9, 0, 16, 16, 8, 7, 7, 7, 7, 7, 9, 20, 15, 9, 15, 7, 13, 13, 15, 15, 7, 18, 8, 8, 9, 8, 18, 18, 6, 8, 9, 15, 7, 6, 7, 9, 7, 18, 15, 9, 7, 3, 8, 8, 7, 8, 15, 15, 8, 7, 19, 8, 15, 9, 7, 9, 8, 11, 15, 13, 15, 9, 9, 8, 8, 10, 9, 9, 7, 18, 8, 7, 16, 9, 3, 15, 7, 19, 9, 9, 7, 7, 8, 15, 15, 8, 6, 11, 15, 7, 7, 15, 9, 15, 8, 0, 15, 7, 15, 8, 7, 6, 15, 18, 16, 17, 8, 15, 15, 8, 18, 7, 15, 3, 9, 17, 15, 15, 7, 15, 19, 8, 6, 3, 16, 15, 7, 7, 6, 8, 15, 8, 15, 18, 15, 3, 7, 15, 15, 14, 7, 13, 7, 15, 7, 8, 18, 8, 7, 18, 8, 7, 13, 11, 7, 7, 9, 9, 9, 18, 7, 3, 7, 15, 10, 7, 15, 10, 8, 7, 8, 9, 16, 7, 11, 13, 9, 13, 3, 9, 7, 15, 18, 10, 16, 8, 8, 18, 8, 15, 15, 11, 13, 7, 6, 17, 14, 18, 8, 8, 9, 7, 7, 6, 6, 13, 15, 15, 7, 15, 8, 9, 17, 9, 8, 7, 18, 7, 9, 11, 8, 6, 15, 18, 15, 13, 18, 15, 7, 9, 15, 15, 9, 8, 16, 13, 8, 7, 9, 15, 13, 7, 9, 15, 20, 16, 18, 8, 15, 7, 19, 9, 9, 7, 16, 7, 7, 7, 15, 15, 7, 7, 18, 6, 8, 9, 15, 9, 15, 8, 11, 15, 17, 8, 8, 15, 0, 7, 11, 9, 7, 18, 8, 6, 9, 11, 8, 7, 10, 7, 9, 6, 8, 9, 7, 15, 7, 7, 15, 13, 18, 7, 8, 7, 10, 9, 8, 8, 8, 18, 15, 9, 18, 9, 8, 0, 8, 7, 15, 15, 15, 7, 8, 15, 13, 10, 15, 9, 10, 11, 9, 9, 19, 19, 9, 8, 8, 18, 8, 16, 18, 7, 15, 18, 11, 11, 15, 7, 9, 7, 9, 15, 8, 15, 3, 7, 15, 8, 15, 9, 18, 15, 15, 8, 6, 7, 7, 6, 7, 15, 7, 11, 9, 15, 9, 7, 8, 9, 15, 15, 9, 8, 9, 9, 8, 16, 15, 11, 20, 9, 15, 9, 13, 9, 7, 9, 13, 15, 7, 16, 9, 7, 8, 9, 7, 7, 15, 6, 7, 6, 9, 7, 16, 15, 7, 9, 18, 9, 7, 9, 15, 15, 7, 18, 11, 11, 8, 6, 18, 7, 8, 16, 10, 9, 13, 8, 18, 9, 9, 18, 13, 18, 7, 7, 8, 7, 16, 14, 15, 6, 8, 18, 7, 8, 10, 7, 9, 9, 18, 7, 15, 16, 15, 8, 7, 7, 8, 9, 7, 8, 8, 8, 7, 3, 7, 15, 8, 15, 9, 9, 7, 15, 15, 13, 13, 8, 7, 7, 7, 13, 7, 18, 9, 15, 9, 9, 6, 7, 8, 7, 18, 16, 8, 8, 6, 8, 8, 20, 8, 7, 15, 15, 15, 15, 9, 18, 15, 11, 8, 8, 9, 15, 8, 7, 9, 7, 9, 8, 15, 7, 7, 13, 7, 11, 19, 7, 9, 15, 7, 9, 7, 6, 8, 8, 15, 6, 15, 8, 7, 15, 18, 7, 15, 7, 6, 9, 7, 9, 18, 18, 15, 8, 8, 15, 15, 7, 8, 15, 15, 16, 7, 8, 9, 9, 15, 11, 8, 9, 6, 8, 18, 7, 8, 15, 9, 9, 9, 7, 18, 15, 18, 8, 20, 15, 11, 15, 8, 15, 8, 15, 8, 8, 18, 15, 15, 8, 15, 15, 6, 8, 9, 10, 10, 6, 11, 20, 7, 7, 16, 18, 7, 8, 9, 7, 15, 8, 15, 7, 6, 8, 7, 8, 7, 8, 15, 15, 9, 9, 15, 8, 18, 9, 7, 9, 8, 9, 8, 15, 18, 7, 15, 8, 9, 8, 15, 18, 7, 8, 15, 7, 11, 9, 0, 8, 18, 8, 8, 19, 7, 6, 11, 7, 7, 18, 16, 8, 7, 18, 8, 20, 9, 16, 18, 7, 15, 18, 6, 15, 7, 18, 9, 6, 8, 15, 9, 7, 8, 13, 8, 7, 8, 7, 15, 13, 7, 18, 6, 7, 3, 7, 8, 7, 8, 3, 9, 7, 9, 8, 8, 18, 9, 17, 15, 8, 18, 7, 3, 6, 8, 7, 16, 11, 11, 13, 7, 8, 15, 15, 7, 7, 15, 15, 3, 9, 9, 8, 9, 18, 9, 8, 9, 19, 15, 8, 7, 15, 19, 15, 8, 7, 7, 0, 7, 13, 9, 6, 7, 9, 9, 4, 7, 6, 11, 9, 3, 15, 8, 15, 9, 8, 8, 10, 20, 7, 8, 15, 18, 3, 8, 8, 7, 8, 15, 7, 8, 9, 9, 15, 8, 7, 9, 15, 9, 17, 18, 7, 11, 8, 9, 15, 7, 15, 8, 15, 7, 8, 9, 15, 8, 7, 18, 15, 7, 7, 8, 7, 7, 7, 18, 8, 7, 9, 7, 15, 15, 8, 15, 18, 17, 15, 6, 7, 11, 15, 7, 16, 7, 8, 19, 15, 0, 8, 9, 8, 7, 15, 8, 16, 9, 7, 8, 7, 16, 15, 9, 3, 11, 8, 6, 8, 8, 7, 10, 18, 7, 7, 15, 15, 18, 6, 8, 9, 8, 9, 8, 18, 9, 8, 9, 9, 15, 15, 7, 15, 10, 8, 9, 8, 8, 8, 9, 9, 6, 15, 8, 9, 9, 7, 9, 8, 8, 15, 8, 15, 7, 15, 8, 13, 15, 13, 15, 15, 15, 8, 15, 13, 8, 8, 13, 15, 8, 8, 10, 7, 8, 0, 6, 15, 9, 13, 6, 9, 8, 9, 9, 7, 7, 15, 15, 15, 18, 9, 16, 6, 11, 7, 7, 7, 7, 10, 18, 7]\n"
     ]
    }
   ],
   "source": [
    "y_pred_Test =[]\n",
    "for i in Y_pred_test:\n",
    "    y_pred_Test.append(np.argmax(i))\n",
    "\n",
    "print(y_pred_Test)"
   ]
  },
  {
   "cell_type": "code",
   "execution_count": 35,
   "metadata": {},
   "outputs": [
    {
     "name": "stdout",
     "output_type": "stream",
     "text": [
      "[[2.67088442e-04 1.53947866e-03 9.63016864e-05 1.16783781e-02\n",
      "  3.81733320e-04 9.31135492e-06 1.33177871e-03 9.00629163e-01\n",
      "  8.74949060e-03 9.24318191e-03 2.41625414e-04 3.77193000e-03\n",
      "  8.26912219e-05 4.27458835e-05 5.82141802e-03 1.62307844e-02\n",
      "  8.96234938e-04 8.36423806e-06 4.19592019e-04 5.81033019e-05\n",
      "  3.85005362e-02]\n",
      " [8.79481994e-03 1.72337308e-03 4.27307619e-04 4.84964112e-03\n",
      "  1.45027926e-03 1.03950792e-03 6.04500948e-03 1.13298759e-01\n",
      "  2.50903726e-01 4.57563251e-01 7.99622852e-03 1.50862187e-02\n",
      "  1.56573858e-03 3.89624969e-04 2.28976384e-02 3.14295329e-02\n",
      "  2.29640566e-02 2.16090563e-03 1.15260612e-02 1.80015550e-03\n",
      "  3.60881388e-02]\n",
      " [8.04311875e-03 5.24160918e-04 1.43964007e-05 1.04362750e-03\n",
      "  3.35877994e-04 2.30743335e-05 1.80456671e-03 6.93616152e-01\n",
      "  7.77020529e-02 2.04966459e-02 2.56843749e-04 1.16770598e-03\n",
      "  4.67392274e-05 1.69292962e-05 3.25339474e-02 1.75510477e-02\n",
      "  4.66489457e-02 1.59449037e-03 1.03337306e-03 2.56634783e-04\n",
      "  9.52897668e-02]\n",
      " [2.84031643e-09 1.39673816e-07 1.26108833e-04 8.30879099e-09\n",
      "  1.05447625e-05 8.13254672e-08 2.13786436e-07 1.89120019e-05\n",
      "  1.52881015e-07 2.17014690e-06 1.58217154e-05 8.79868594e-07\n",
      "  1.04520514e-05 9.18052077e-01 4.31943237e-09 8.17594826e-02\n",
      "  2.27913635e-08 4.20765751e-08 2.25829854e-06 5.08277424e-07\n",
      "  1.26624059e-07]\n",
      " [1.04628108e-03 2.61111930e-03 8.01020069e-04 4.06482257e-03\n",
      "  4.02168836e-03 8.39404529e-05 1.74786756e-03 2.29503438e-01\n",
      "  1.67368017e-02 1.81412846e-01 1.12009859e-02 2.52390839e-02\n",
      "  4.59868042e-03 1.81544875e-03 7.45007629e-03 1.99682005e-02\n",
      "  5.20072319e-03 1.39636034e-03 4.62132245e-01 4.90639824e-03\n",
      "  1.40618971e-02]]\n"
     ]
    }
   ],
   "source": [
    "Y_pred = model.predict(padded_docs_Test)\n",
    "print(Y_pred[0:5])"
   ]
  },
  {
   "cell_type": "code",
   "execution_count": 41,
   "metadata": {},
   "outputs": [
    {
     "data": {
      "text/plain": [
       "list"
      ]
     },
     "execution_count": 41,
     "metadata": {},
     "output_type": "execute_result"
    }
   ],
   "source": [
    "type(y_pred)"
   ]
  },
  {
   "cell_type": "code",
   "execution_count": 36,
   "metadata": {},
   "outputs": [
    {
     "name": "stdout",
     "output_type": "stream",
     "text": [
      "[7, 9, 7, 13, 18, 7, 7, 8, 16, 7, 8, 8, 6, 6, 9, 15, 7, 11, 6, 7, 7, 7, 15, 9, 18, 11, 15, 18, 9, 15, 9, 20, 18, 18, 9, 13, 10, 8, 15, 9, 7, 6, 18, 7, 15, 7, 8, 19, 8, 9, 4, 7, 9, 15, 15, 7, 9, 8, 9, 7, 8, 15, 9, 3, 15, 18, 8, 13, 7, 18, 7, 16, 15, 16, 7, 7, 8, 8, 6, 8, 7, 12, 7, 7, 7, 9, 15, 6, 15, 18, 7, 18, 17, 7, 15, 8, 7, 18, 8, 7, 9, 15, 8, 15, 15, 15, 9, 15, 10, 8, 9, 8, 7, 7, 7, 13, 10, 7, 8, 10, 8, 9, 7, 8, 8, 8, 6, 16, 7, 15, 18, 7, 8, 3, 15, 9, 9, 17, 3, 8, 8, 18, 7, 11, 13, 15, 8, 15, 17, 7, 9, 9, 15, 13, 7, 18, 15, 15, 7, 9, 19, 15, 9, 3, 3, 7, 15, 7, 8, 18, 8, 7, 19, 11, 11, 11, 10, 8, 9, 8, 8, 8, 15, 7, 9, 9, 8, 7, 7, 7, 9, 8, 7, 7, 8, 7, 7, 8, 9, 10, 7, 15, 8, 9, 7, 6, 15, 6, 10, 8, 15, 6, 18, 9, 18, 15, 8, 15, 8, 6, 13, 8, 15, 8, 6, 9, 11, 9, 7, 7, 11, 19, 8, 11, 7, 11, 7, 8, 15, 15, 9, 15, 10, 19, 6, 15, 9, 7, 13, 9, 15, 15, 9, 8, 8, 9, 7, 7, 15, 7, 8, 7, 7, 7, 3, 17, 16, 7, 15, 7, 9, 9, 7, 10, 13, 18, 7, 6, 13, 8, 8, 9, 9, 18, 11, 9, 15, 9, 7, 6, 7, 9, 11, 15, 7, 9, 13, 18, 10, 15, 7, 6, 16, 15, 9, 13, 6, 15, 15, 9, 7, 18, 9, 9, 8, 9, 16, 7, 8, 7, 9, 7, 8, 16, 8, 7, 15, 18, 8, 7, 9, 7, 7, 18, 7, 7, 15, 8, 9, 18, 7, 15, 7, 16, 19, 15, 7, 13, 7, 15, 6, 9, 7, 15, 8, 10, 15, 8, 18, 7, 11, 7, 7, 15, 9, 9, 10, 9, 18, 9, 8, 18, 18, 9, 8, 7, 7, 15, 7, 15, 15, 8, 7, 8, 15, 15, 7, 0, 8, 8, 15, 9, 9, 15, 9, 8, 9, 9, 16, 15, 8, 15, 8, 8, 8, 13, 7, 9, 7, 8, 9, 9, 9, 7, 11, 7, 18, 6, 7, 9, 11, 15, 8, 11, 8, 15, 9, 7, 8, 11, 20, 8, 19, 11, 20, 7, 8, 3, 18, 9, 15, 9, 15, 7, 9, 7, 6, 7, 8, 11, 7, 7, 8, 8, 13, 7, 19, 7, 3, 18, 16, 8, 19, 8, 8, 15, 9, 19, 8, 20, 7, 7, 15, 13, 9, 9, 7, 9, 8, 8, 9, 15, 19, 7, 15, 8, 8, 7, 9, 15, 7, 8, 15, 15, 8, 16, 8, 15, 13, 15, 7, 9, 18, 7, 15, 8, 9, 11, 7, 7, 9, 11, 7, 7, 15, 6, 19, 9, 13, 7, 8, 9, 16, 8, 7, 15, 18, 11, 8, 8, 19, 18, 3, 18, 15, 9, 9, 8, 8, 11, 9, 9, 20, 7, 9, 9, 3, 0, 7, 10, 13, 7, 7, 11, 6, 7, 7, 9, 10, 11, 11, 18, 11, 11, 8, 7, 7, 18, 18, 8, 18, 7, 7, 9, 8, 11, 9, 6, 6, 9, 18, 8, 7, 10, 8, 15, 6, 6, 6, 9, 19, 16, 15, 8, 8, 10, 3, 8, 7, 8, 6, 7, 15, 15, 7, 9, 10, 15, 20, 15, 11, 19, 8, 15, 18, 15, 9, 7, 8, 9, 15, 9, 7, 7, 15, 13, 7, 15, 15, 9, 9, 8, 15, 15, 7, 7, 16, 9, 3, 7, 0, 9, 15, 13, 19, 9, 11, 8, 11, 6, 3, 18, 7, 8, 9, 7, 15, 11, 8, 8, 17, 9, 3, 17, 18, 11, 15, 18, 8, 7, 15, 15, 13, 15, 8, 8, 7, 9, 8, 17, 9, 7, 15, 8, 8, 8, 15, 7, 18, 16, 9, 9, 7, 15, 8, 11, 20, 8, 18, 9, 7, 9, 11, 13, 7, 9, 7, 13, 7, 9, 8, 9, 7, 8, 8, 8, 11, 8, 8, 7, 8, 9, 16, 16, 7, 18, 7, 6, 8, 15, 7, 7, 9, 6, 8, 8, 18, 15, 7, 7, 7, 7, 7, 9, 8, 15, 15, 8, 15, 15, 7, 8, 7, 10, 9, 7, 8, 8, 8, 7, 7, 9, 9, 15, 7, 7, 8, 7, 9, 3, 7, 7, 9, 9, 8, 15, 7, 9, 7, 6, 7, 8, 9, 9, 8, 18, 7, 9, 15, 7, 9, 15, 7, 19, 15, 15, 16, 17, 7, 7, 10, 8, 18, 7, 7, 8, 9, 6, 7, 8, 8, 18, 6, 15, 8, 7, 16, 7, 8, 9, 15, 8, 11, 15, 8, 7, 7, 9, 15, 7, 8, 9, 9, 7, 10, 8, 11, 7, 19, 9, 8, 18, 8, 16, 16, 9, 9, 6, 8, 17, 8, 7, 9, 8, 10, 17, 15, 7, 8, 7, 7, 15, 6, 15, 7, 7, 15, 7, 9, 17, 15, 11, 11, 0, 8, 15, 7, 11, 7, 17, 18, 13, 8, 7, 18, 9, 9, 15, 8, 8, 13, 18, 7, 11, 8, 15, 15, 8, 8, 11, 9, 7, 6, 7, 9, 8, 15, 9, 9, 16, 7, 16, 8, 8, 7, 15, 9, 18, 7, 8, 8, 19, 0, 6, 7, 8, 7, 7, 7, 9, 11, 15, 8, 15, 18, 8, 7, 8, 13, 7, 9, 8, 7, 18, 7, 7, 10, 15, 9, 15, 7, 9, 15, 6, 15, 15, 17, 9, 8, 7, 13, 9, 15, 20, 7, 8, 7, 9, 20, 9, 16, 9, 10, 13, 18, 8, 9, 3, 7, 7, 7, 8, 10, 7, 8, 7, 18, 9, 19, 13, 7, 8, 11, 7, 9, 15, 8, 18, 7, 9, 8, 8, 18, 15, 11, 15, 7, 15, 9, 9, 15, 15, 15, 8, 9, 7, 15, 8, 7, 7, 9, 9, 11, 8, 9, 6, 6, 13, 9, 8, 9, 6, 7, 7, 15, 7, 8, 10, 15, 9, 7, 8, 8, 15, 15, 8, 9, 8, 15, 19, 8, 7, 15, 18, 10, 10, 18, 19, 8, 9, 9, 9, 7, 7, 11, 9, 7, 13, 8, 8, 15, 7, 3, 6, 15, 19, 8, 9, 7, 18, 17, 7, 9, 8, 6, 7, 18, 8, 0, 15, 15, 19, 15, 7, 15, 6, 9, 13, 6, 19, 15, 8, 8, 7, 7, 7, 8, 15, 13, 18, 13, 8, 8, 19, 8, 0, 19, 15, 15, 9, 8, 6, 8, 7, 6, 7, 8, 8, 7, 9, 18, 9, 8, 8, 8, 8, 18, 8, 9, 15, 8, 11, 9, 8, 8, 7, 13, 7, 7, 9, 9, 9, 8, 7, 9, 8, 8, 8, 11, 7, 7, 7, 9, 15, 7, 7, 8, 8, 8, 7, 7, 8, 7, 15, 9, 9, 8, 15, 9, 15, 8, 8, 9, 15, 8, 15, 7, 7, 10, 9, 13, 9, 13, 9, 7, 8, 8, 15, 15, 8, 15, 6, 9, 15, 8, 8, 8, 9, 20, 8, 19, 9, 7, 8, 15, 9, 8, 15, 8, 16, 15, 19, 6, 8, 11, 9, 8, 9, 15, 7, 9, 9, 18, 18, 15, 9, 7, 15, 7, 18, 8, 15, 7, 7, 6, 9, 8, 15, 9, 6, 11, 9, 16, 11, 9, 7, 9, 9, 7, 10, 15, 6, 8, 18, 10, 7, 8, 7, 16, 9, 8, 8, 10, 8, 8, 8, 7, 19, 8, 13, 8, 9, 6, 15, 8, 7, 7, 18, 15, 20, 6, 8, 8, 15, 18, 7, 13, 6, 15, 9, 8, 8, 0, 9, 7, 18, 18, 7, 8, 9, 7, 7, 18, 8, 15, 15, 9, 8, 18, 8, 6, 6, 13, 19, 7, 15, 7, 19, 11, 8, 15, 8, 18, 15, 7, 8, 6, 9, 8, 3, 20, 8, 6, 8, 8, 3, 8, 9, 8, 10, 8, 9, 18, 9, 7, 15, 7, 19, 8, 9, 8, 8, 6, 3, 8, 18, 7, 8, 18, 7, 18, 6, 18, 20, 11, 9, 15, 9, 7, 7, 7, 8, 8, 9, 9, 15, 15, 8, 7, 8, 13, 15, 3, 9, 10, 9, 19, 18, 7, 7, 9, 8, 7, 15, 8, 18, 15, 7, 9, 7, 8, 15, 15, 9, 8, 13, 12, 18, 9, 7, 16, 9, 16, 7, 16, 7, 8, 6, 16, 11, 15, 18, 15, 9, 6, 15, 7, 15, 9, 0, 7, 18, 6, 9, 16, 9, 8, 7, 9, 10, 7, 9, 7, 18, 6, 7, 11, 8, 15, 16, 8, 7, 18, 8, 6, 9, 16, 8, 15, 8, 11, 3, 7, 18, 9, 9, 6, 8, 9, 13, 7, 7, 8, 9, 8, 4, 9, 15, 15, 8, 8, 15, 8, 8, 15, 9, 8, 19, 10, 8, 7, 9, 15, 11, 8, 7, 8, 9, 8, 15, 8, 8, 15, 8, 8, 15, 11, 9, 7, 11, 8, 8, 7, 7, 18, 15, 18, 10, 9, 15, 8, 7, 10, 9, 7, 18, 15, 9, 7, 15, 15, 8, 15, 7, 7, 8, 15, 9, 13, 7, 6, 17, 15, 8, 8, 10, 7, 7, 7, 9, 15, 18, 7, 9, 6, 8, 15, 8, 6, 15, 16, 15, 7, 18, 8, 15, 6, 8, 8, 6, 0, 9, 7, 8, 18, 15, 9, 3, 7, 9, 7, 15, 8, 15, 15, 3, 13, 18, 7, 15, 15, 15, 15, 10, 18, 8, 15, 8, 15, 9, 7, 15, 11, 9, 9, 16, 9, 8, 6, 7, 7, 7, 15, 7, 15, 7, 9, 8, 13, 18, 7, 15, 7, 9, 9, 15, 7, 13, 8, 6, 9, 9, 9, 7, 9, 7, 15, 7, 16, 6, 15, 9, 0, 9, 18, 13, 7, 15, 7, 9, 9, 7, 15, 7, 16, 6, 7, 7, 7, 9, 15, 11, 10, 8, 7, 20, 8, 7, 16, 19, 7, 8, 13, 8, 9, 15, 10, 9, 8, 6, 7, 8, 10, 9, 11, 8, 16, 7, 18, 8, 15, 8, 18, 9, 18, 9, 8, 7, 18, 8, 8, 15, 15, 17, 7, 7, 8, 6, 7, 11, 7, 9, 13, 9, 7, 8, 8, 15, 3, 8, 15, 9, 9, 18, 7, 15, 8, 8, 18, 7, 19, 18, 7, 7, 18, 10, 7, 8, 7, 7, 20, 15, 18, 9, 7, 7, 9, 7, 15, 15, 7, 8, 9, 9, 7, 7, 17, 9, 9, 11, 11, 15, 9, 8, 8, 7, 15, 8, 15, 6, 16, 8, 7, 9, 8, 8, 18, 8, 7, 16, 9, 7, 19, 8, 18, 13, 8, 8, 8, 9, 7, 7, 8, 6, 6, 13, 11, 9, 9, 9, 15, 7, 6, 9, 17, 7, 7, 19, 7, 13, 7, 6, 7, 13, 20, 8, 0, 7, 18, 18, 18, 7, 16, 15, 15, 7, 8, 15, 3, 7, 15, 15, 15, 11, 8, 18, 9, 7, 9, 3, 15, 15, 15, 13, 7, 7, 7, 15, 8, 9, 8, 8, 15, 9, 13, 9, 8, 8, 13, 15, 11, 9, 6, 15, 15, 7, 9, 9, 10, 7, 20, 13, 8, 0, 20, 7, 8, 9, 6, 7, 7, 7, 6, 10, 18, 8, 8, 11, 6, 8, 13, 7, 15, 18, 7, 9, 9, 9, 8, 18, 11, 13, 9, 15, 9, 15, 8, 13, 17, 18, 17, 13, 10, 13, 7, 18, 9, 20, 8, 15, 7, 18, 10, 7, 15, 19, 8, 13, 9, 8, 9, 15, 7, 9, 8, 8, 18, 7, 9, 7, 16, 15, 8, 7, 9, 8, 8, 7, 16, 19, 8, 7, 0, 7, 13, 7, 8, 8, 16, 10, 16, 3, 11, 10, 7, 8, 10, 6, 15, 9, 11, 13, 8, 9, 15, 13, 13, 19, 7, 9, 15, 8, 15, 7, 10, 9, 11, 9, 15, 19, 7, 9, 7, 17, 13, 7, 13, 8, 6, 6, 6, 9, 9, 7, 15, 9, 8, 8, 8, 9, 15, 11, 7, 18, 7, 15, 7, 11, 7, 18, 15, 7, 20, 7, 7, 8, 16, 17, 15, 8, 8, 11, 8, 15, 11, 8, 13, 15, 8, 18, 9, 20, 7, 15, 3, 9, 7, 6, 4, 7, 8, 15, 8, 16, 10, 8, 8, 8, 15, 9, 15, 10, 7, 7, 8, 15, 9, 7, 7, 7, 7, 8, 13, 8, 15, 18, 15, 7, 8, 9, 9, 18, 7, 8, 18, 8, 9, 18, 17, 15, 8, 9, 19, 15, 7, 15, 8, 8, 9, 11, 8, 7, 7, 11, 8, 9, 15, 15, 9, 15, 15, 7, 7, 15, 9, 7, 15, 7, 8, 13, 9, 9, 6, 3, 16, 8, 17, 6, 15, 9, 15, 9, 9, 8, 15, 7, 18, 7, 8, 7, 7, 7, 15, 16, 15, 8, 8, 7, 6, 16, 8, 7, 16, 7, 11, 15, 9, 9, 16, 8, 8, 10, 8, 8, 11, 7, 9, 9, 10, 8, 8, 7, 9, 19, 7, 9, 7, 10, 8, 7, 8, 16, 7, 8, 7, 15, 6, 15, 18, 9, 15, 8, 6, 18, 13, 9, 18, 9, 17, 15, 9, 8, 8, 15, 7, 8, 15, 15, 8, 7, 8, 15, 7, 9, 7, 8, 7, 7, 9, 8, 15, 15, 8, 9, 0, 9, 7, 17, 19, 15, 15, 18, 9, 3, 8, 16, 7, 8, 7, 9, 8, 17, 9, 15, 15, 8, 15, 15, 15, 9, 15, 8, 7, 15, 11, 18, 16, 15, 6, 6, 16, 7, 18, 18, 7, 8, 9, 8, 8, 7, 15, 15, 19, 9, 15, 15, 8, 10, 18, 18, 15, 16, 7, 7, 3, 8, 15, 7, 7, 10, 13, 15, 6, 9, 9, 18, 9, 9, 6, 8, 15, 8, 11, 15, 15, 7, 19, 9, 9, 0, 9, 6, 8, 15, 7, 11, 9, 8, 15, 10, 8, 10, 7, 8, 4, 15, 9, 15, 6, 16, 10, 8, 10, 16, 18, 9, 15, 9, 8, 8, 8, 6, 9, 3, 6, 7, 15, 15, 9, 7, 18, 7, 15, 8, 15, 7, 10, 7, 9, 15, 15, 8, 7, 9, 6, 7, 13, 7, 8, 9, 4, 8, 18, 11, 11, 7, 8, 9, 8, 8, 8, 8, 9, 16, 7, 10, 8, 7, 15, 6, 18, 18, 8, 11, 8, 9, 8, 8, 19, 6, 7, 8, 9, 9, 8, 7, 15, 15, 7, 7, 15, 6, 7, 15, 8, 8, 15, 8, 15, 7, 6, 15, 7, 8, 8, 7, 8, 7, 6, 8, 7, 7, 15, 6, 3, 7, 6, 7, 8, 13, 7, 7, 3, 6, 8, 8, 8, 15, 8, 6, 18, 13, 15, 8, 13, 15, 9, 9, 15, 18, 9, 15, 15, 0, 3, 15, 7, 9, 15, 15, 9, 15, 9, 8, 11, 7, 15, 7, 9, 8, 15, 6, 7, 15, 18, 16, 6, 8, 16, 8, 8, 15, 9, 7, 7, 8, 9, 11, 7, 15, 7, 18, 9, 7, 7, 7, 6, 18, 7, 7, 8, 18, 7, 8, 7, 9, 3, 7, 8, 15, 8, 15, 18, 9, 0, 7, 9, 8, 9, 9, 7, 18, 7, 8, 19, 15, 8, 18, 8, 15, 7, 19, 7, 15, 9, 20, 15, 19, 13, 9, 7, 17, 15, 18, 9, 8, 8, 7, 8, 10, 6, 7, 18, 9, 8, 13, 6, 9, 7, 8, 8, 15, 8, 9, 15, 13, 13, 7, 11, 9, 13, 7, 18, 18, 9, 9, 7, 9, 20, 15, 11, 17, 20, 7, 10, 8, 15, 7, 15, 9, 7, 15, 19, 18, 11, 7, 6, 9, 7, 13, 13, 8, 8, 7, 8, 7, 15, 7, 7, 13, 7, 9, 10, 7, 15, 7, 15, 8, 16, 13, 15, 8, 7, 7, 9, 9, 7, 19, 8, 18, 15, 18, 20, 7, 9, 11, 18, 8, 6, 18, 15, 7, 15, 7, 13, 15, 6, 9, 16, 11, 7, 15, 15, 18, 8, 15, 7, 8, 15, 3, 8, 7, 9, 15, 19, 8, 18, 8, 8, 6, 15, 15, 18, 16, 3, 15, 8, 9, 15, 8, 15, 11, 15, 3, 15, 7, 9, 7, 8, 16, 18, 11, 15, 9, 8, 19, 19, 18, 8, 7, 9, 8, 8, 14, 8, 16, 6, 8, 15, 8, 18, 13, 15, 15, 16, 9, 15, 13, 9, 8, 6, 15, 9, 9, 7, 7, 13, 8, 8, 9, 8, 8, 7, 7, 15, 15, 9, 6, 8, 9, 7, 15, 8, 11, 15, 9, 18, 7, 8, 7, 9, 15, 19, 7, 15, 11, 15, 15, 6, 7, 7, 15, 8, 9, 15, 6, 7, 18, 15, 7, 9, 9, 18, 8, 7, 7, 8, 7, 9, 7, 18, 0, 8, 11, 15, 8, 19, 8, 7, 8, 9, 20, 8, 15, 7, 15, 15, 9, 13, 11, 8, 7, 3, 7, 8, 6, 9, 8, 3, 7, 15, 7, 9, 9, 9, 15, 11, 7, 6, 15, 9, 6, 16, 8, 15, 9, 18, 15, 15, 17, 8, 15, 8, 8, 8, 8, 6, 8, 8, 19, 8, 20, 7, 8, 7, 15, 7, 15, 8, 8, 6, 13, 15, 7, 7, 18, 15, 7, 15, 9, 6, 9, 8, 9, 18, 9, 8, 15, 7, 9, 8, 8, 9, 10, 9, 9, 7, 15, 7, 8, 8, 13, 8, 16, 8, 7, 9, 7, 7, 11, 10, 15, 13, 10, 8, 9, 15, 16, 8, 8, 13, 15, 15, 7, 7, 8, 15, 11, 8, 15, 15, 9, 8, 7, 11, 11, 7, 8, 6, 6, 7, 8, 13, 9, 15, 7, 18, 19, 8, 19, 15, 18, 8, 9, 8, 9, 9, 9, 8, 15, 15, 7, 7, 7, 7, 11, 15, 18, 9, 3, 9, 7, 7, 15, 8, 8, 6, 15, 15, 8, 8, 3, 7, 9, 7, 8, 15, 8, 18, 8, 13, 6, 17, 15, 9, 15, 15, 9, 7, 19, 15, 9, 9, 18, 7, 15, 17, 8, 18, 6, 9, 10, 16, 7, 6, 6, 8, 8, 8, 6, 15, 18, 6, 8, 8, 8, 15, 8, 17, 17, 8, 9, 10, 8, 15, 7, 8, 15, 6, 19, 8, 7, 7, 8, 8, 9, 7, 9, 9, 7, 9, 15, 9, 9, 6, 6, 8, 15, 8, 8, 15, 6, 16, 17, 9, 9, 13, 9, 8, 9, 9, 8, 9, 16, 9, 8, 15, 7, 9, 15, 7, 8, 8, 7, 13, 9, 13, 8, 19, 15, 9, 9, 3, 7, 6, 17, 9, 8, 15, 6, 13, 13, 18, 7, 7, 8, 8, 7, 7, 15, 8, 15, 15, 7, 18, 15, 7, 8, 9, 9, 15, 18, 7, 17, 8, 15, 14, 10, 7, 18, 15, 16, 15, 15, 8, 9, 8, 10, 9, 9, 8, 8, 7, 17, 15, 11, 15, 7, 7, 8, 15, 8, 15, 7, 15, 8, 9, 15, 15, 9, 8, 9, 18, 15, 7, 9, 18, 15, 19, 16, 15, 9, 9, 9, 9, 15, 8, 15, 6, 18, 16, 8, 7, 15, 11, 6, 3, 9, 15, 16, 18, 9, 19, 13, 9, 11, 9, 7, 7, 19, 7, 7, 7, 15, 18, 8, 8, 9, 13, 9, 15, 16, 19, 9, 11, 15, 15, 7, 18, 17, 13, 7, 8, 7, 9, 15, 6, 15, 3, 7, 8, 15, 9, 8, 9, 18, 7, 8, 7, 15, 6, 8, 11, 7, 15, 13, 9, 7, 9, 9, 8, 8, 8, 19, 20, 15, 9, 7, 18, 7, 15, 7, 8, 18, 15, 0, 9, 7, 7, 15, 8, 9, 9, 7, 7, 15, 8, 7, 8, 15, 19, 9, 11, 6, 16, 9, 9, 15, 15, 15, 7, 11, 15, 6, 8, 7, 6, 9, 11, 6, 8, 15, 15, 15, 8, 13, 18, 7, 3, 8, 7, 8, 15, 7, 7, 9, 8, 19, 15, 9, 7, 7, 15, 15, 9, 15, 8, 9, 15, 8, 8, 7, 8, 8, 6, 19, 9, 18, 18, 15, 8, 9, 10, 15, 13, 7, 8, 8, 9, 6, 7, 11, 7, 0, 17, 11, 15, 9, 7, 6, 7, 6, 9, 7, 11, 15, 8, 8, 16, 9, 13, 8, 7, 7, 9, 9, 9, 9, 8, 8, 6, 11, 9, 10, 7, 13, 16, 9, 11, 6, 7, 15, 11, 7, 18, 15, 7, 8, 20, 9, 8, 7, 3, 8, 8, 13, 9, 8, 6, 9, 9, 15, 10, 10, 7, 8, 19, 7, 8, 10, 7, 9, 19, 18, 16, 9, 9, 7, 8, 9, 15, 18, 9, 15, 15, 18, 18, 16, 15, 7, 9, 15, 15, 15, 15, 8, 8, 10, 8, 9, 6, 9, 7, 6, 8, 7, 18, 7, 7, 8, 8, 8, 8, 7, 7, 9, 7, 13, 6, 18, 8, 10, 9, 8, 15, 8, 20, 7, 7, 8, 9, 15, 18, 9, 19, 8, 9, 8, 11, 11, 16, 7, 6, 7, 8, 18, 10, 15, 15, 15, 16, 6, 7, 7, 6, 18, 15, 11, 7, 20, 7, 7, 7, 8, 9, 15, 15, 7, 15, 16, 7, 8, 15, 15, 18, 9, 14, 7, 18, 15, 15, 15, 7, 15, 7, 11, 15, 3, 9, 7, 6, 15, 8, 15, 9, 15, 4, 7, 9, 15, 6, 13, 8, 7, 15, 15, 11, 9, 7, 11, 9, 15, 11, 11, 16, 9, 6, 8, 18, 15, 9, 11, 7, 9, 15, 7, 11, 15, 19, 11, 8, 8, 7, 6, 8, 0, 7, 9, 15, 7, 7, 15, 8, 8, 7, 15, 7, 9, 3, 16, 8, 15, 7, 8, 6, 8, 8, 7, 6, 7, 6, 18, 15, 15, 7, 18, 8, 15, 8, 7, 9, 8, 16, 17, 7, 8, 15, 15, 9, 9, 7, 10, 9, 18, 17, 9, 7, 15, 15, 8, 19, 15, 15, 15, 13, 7, 15, 18, 7, 9, 15, 7, 6, 9, 13, 7, 7, 15, 15, 13, 8, 9, 8, 15, 15, 9, 15, 10, 8, 8, 6, 9, 9, 7, 8, 8, 9, 8, 7, 9, 10, 15, 11, 7, 7, 9, 15, 7, 17, 18, 7, 11, 8, 7, 9, 18, 15, 11, 6, 7, 15, 9, 18, 8, 9, 15, 8, 6, 13, 16, 10, 18, 9, 15, 6, 16, 11, 15, 8, 19, 7, 9, 13, 9, 15, 17, 7, 9, 18, 13, 9, 20, 9, 8, 6, 15, 6, 7, 8, 8, 11, 7, 8, 9, 8, 8, 7, 9, 9, 9, 10, 15, 10, 9, 18, 8, 9, 9, 7, 11, 11, 15, 8, 15, 6, 8, 7, 7, 7, 8, 8, 7, 7, 13, 13, 15, 7, 15, 7, 7, 19, 8, 13, 8, 15, 15, 15, 18, 15, 8, 15, 15, 9, 7, 9, 18, 8, 4, 7, 7, 15, 8, 8, 15, 7, 9, 15, 9, 10, 7, 7, 9, 10, 7, 9, 7, 9, 16, 15, 9, 13, 7, 15, 9, 18, 15, 15, 14, 9, 6, 7, 18, 15, 8, 15, 6, 8, 0, 8, 8, 7, 15, 8, 9, 8, 9, 7, 7, 8, 6, 9, 15, 7, 19, 7, 11, 8, 19, 15, 9, 15, 11, 7, 15, 8, 8, 9, 8, 9, 7, 11, 18, 18, 6, 15, 11, 11, 8, 6, 8, 8, 8, 7, 7, 8, 11, 8, 18, 8, 15, 18, 15, 15, 8, 18, 8, 15, 10, 11, 9, 11, 15, 7, 8, 8, 15, 7, 9, 0, 15, 15, 7, 8, 18, 11, 6, 8, 7, 8, 9, 9, 11, 15, 15, 9, 10, 15, 8, 18, 9, 7, 15, 15, 8, 7, 17, 7, 15, 6, 16, 17, 15, 8, 9, 18, 7, 6, 3, 9, 7, 7, 7, 7, 15, 18, 15, 8, 6, 13, 8, 8, 15, 15, 7, 7, 8, 9, 15, 13, 15, 15, 7, 15, 8, 18, 8, 7, 7, 14, 18, 9, 15, 0, 8, 7, 15, 6, 11, 9, 8, 15, 7, 7, 15, 8, 7, 9, 9, 7, 15, 7, 16, 8, 15, 9, 6, 8, 7, 11, 8, 7, 9, 7, 8, 7, 8, 8, 10, 9, 7, 7, 6, 9, 8, 11, 11, 15, 18, 7, 8, 15, 7, 8, 15, 8, 8, 15, 15, 19, 9, 19, 11, 9, 7, 9, 8, 7, 8, 7, 9, 7, 8, 19, 8, 7, 11, 15, 9, 9, 7, 9, 9, 7, 7, 3, 7, 9, 9, 15, 18, 19, 7, 9, 8, 8, 7, 8, 7, 8, 7, 18, 15, 7, 11, 8, 11, 9, 7, 9, 8, 18, 7, 6, 9, 7, 7, 18, 3, 9, 8, 7, 3, 11, 18, 8, 15, 8, 8, 7, 8, 8, 15, 11, 20, 7, 15, 15, 8, 9, 15, 7, 15, 19, 18, 19, 11, 7, 8, 15, 11, 8, 7, 15, 9, 8, 10, 13, 7, 15, 8, 17, 15, 8, 15, 7, 9, 7, 6, 9, 8, 8, 7, 8, 20, 7, 15, 8, 15, 8, 15, 15, 13, 3, 8, 9, 15, 16, 15, 9, 3, 11, 15, 11, 15, 8, 15, 11, 11, 17, 19, 16, 7, 16, 15, 8, 4, 20, 7, 9, 9, 7, 11, 9, 8, 10, 7, 11, 9, 9, 8, 15, 15, 9, 19, 15, 9, 8, 18, 10, 8, 6, 9, 13, 8, 8, 19, 15, 9, 9, 7, 7, 7, 9, 19, 20, 13, 15, 15, 15, 8, 8, 18, 15, 18, 9, 18, 8, 8, 15, 10, 7, 18, 7, 8, 17, 3, 18, 10, 7, 15, 9, 7, 8, 9, 18, 15, 15, 16, 3, 7, 9, 7, 8, 6, 6, 8, 15, 8, 13, 15, 15, 7, 18, 18, 7, 9, 7, 8, 8, 19, 9, 15, 7, 7, 7, 9, 7, 9, 15, 8, 18, 7, 13, 8, 15, 9, 15, 8, 15, 9, 8, 9, 8, 7, 7, 8, 8, 7, 10, 13, 8, 16, 7, 9, 16, 7, 7, 8, 6, 8, 9, 7, 7, 8, 0, 7, 16, 16, 15, 9, 17, 19, 15, 6, 7, 13, 7, 13, 18, 15, 15, 8, 9, 8, 18, 11, 15, 8, 9, 7, 18, 8, 8, 9, 8, 15, 7, 16, 15, 20, 7, 8, 16, 8, 9, 6, 8, 8, 7, 7, 8, 7, 8, 9, 19, 15, 7, 8, 17, 8, 17, 15, 8, 7, 9, 7, 19, 10, 15, 13, 8, 19, 8, 8, 18, 8, 15, 15, 9, 18, 15, 9, 15, 17, 9, 6, 16, 20, 7, 8, 15, 7, 7, 10, 7, 7, 6, 13, 9, 13, 8, 15, 9, 7, 9, 7, 7, 9, 7, 7, 8, 8, 15, 9, 8, 15, 7, 7, 15, 13, 8, 18, 8, 7, 15, 15, 16, 9, 13, 15, 9, 9, 7, 8, 15, 9, 11, 8, 7, 9, 8, 8, 7, 8, 9, 9, 15, 8, 9, 15, 7, 15, 11, 18, 16, 8, 15, 7, 7, 8, 7, 7, 8, 8, 18, 19, 7, 17, 7, 7, 7, 15, 8, 8, 15, 9, 8, 6, 15, 15, 8, 11, 11, 13, 8, 15, 15, 8, 9, 8, 8, 7, 7, 15, 17, 3, 7, 15, 8, 7, 19, 7, 7, 8, 8, 9, 9, 10, 15, 7, 8, 15, 15, 0, 10, 7, 9, 11, 8, 7, 8, 20, 6, 16, 9, 15, 20, 6, 8, 15, 19, 7, 9, 9, 15, 8, 19, 18, 8, 9, 8, 15, 8, 8, 8, 8, 8, 17, 19, 7, 8, 20, 18, 9, 7, 8, 15, 15, 19, 7, 15, 9, 6, 9, 15, 7, 6, 15, 6, 15, 15, 15, 15, 18, 6, 9, 7, 7, 7, 15, 17, 7, 19, 9, 9, 7, 15, 10, 9, 9, 17, 15, 3, 7, 15, 15, 13, 9, 15, 7, 7, 7, 7, 15, 15, 8, 7, 8, 11, 11, 8, 15, 7, 0, 18, 8, 9, 3, 15, 7, 8, 8, 17, 8, 9, 9, 11, 15, 7, 15, 6, 9, 7, 13, 11, 18, 7, 15, 7, 8, 15, 20, 6, 9, 8, 7, 8, 18, 18, 8, 7, 8, 7, 8, 7, 7, 7, 11, 20, 8, 15, 13, 7, 19, 15, 9, 13, 6, 13, 9, 8, 7, 7, 7, 19, 7, 8, 7, 15, 8, 0, 9, 16, 7, 15, 7, 8, 7, 9, 7, 7, 7, 15, 9, 9, 8, 7, 11, 18, 9, 9, 15, 20, 15, 0, 18, 18, 15, 19, 9, 6, 8, 7, 15, 8, 9, 4, 18, 8, 18, 10, 9, 7, 18, 9, 9, 7, 15, 15, 8, 18, 15, 15, 3, 9, 8, 7, 19, 6, 13, 7, 10, 9, 8, 15, 11, 8, 15, 7, 15, 15, 9, 20, 7, 15, 9, 8, 15, 7, 8, 20, 7, 6, 10, 8, 7, 7, 8, 17, 8, 8, 3, 9, 13, 15, 8, 19, 6, 4, 6, 7, 9, 9, 15, 9, 8, 9, 13, 9, 9, 19, 9, 8, 9, 20, 15, 9, 6, 7, 15, 15, 7, 13, 9, 15, 15, 15, 6, 15, 15, 7, 8, 8, 3, 7, 15, 7, 10, 18, 0, 6, 3, 7, 18, 18, 9, 15, 15, 8, 0, 15, 6, 8, 9, 7, 6, 15, 15, 7, 7, 8, 7, 15, 16, 8, 13, 8, 9, 9, 18, 8, 9, 7, 8, 8, 15, 8, 8, 9, 7, 7, 7, 9, 18, 9, 15, 16, 16, 8, 8, 8, 8, 15, 15, 8, 6, 8, 9, 8, 8, 8, 15, 15, 7, 10, 9, 7, 9, 8, 8, 9, 7, 8, 7, 8, 8, 13, 9, 8, 8, 8, 16, 7, 19, 8, 9, 7, 16, 9, 9, 7, 11, 15, 18, 6, 8, 18, 18, 7, 8, 15, 7, 8, 10, 8, 7, 7, 15, 10, 7, 7, 9, 8, 18, 3, 7, 20, 7, 15, 7, 8, 18, 11, 8, 16, 7, 8, 9, 10, 8, 6, 8, 8, 8, 9, 7, 13, 15, 15, 13, 9, 0, 9, 6, 15, 9, 7, 15, 15, 9, 9, 7, 8, 8, 16, 7, 13, 15, 8, 8, 9, 15, 9, 7, 15, 15, 8, 7, 16, 10, 15, 7, 18, 0, 11, 18, 17, 18, 8, 9, 15, 15, 15, 9, 8, 7, 11, 15, 0, 13, 18, 8, 9, 8, 15, 16, 9, 9, 7, 9, 7, 7, 8, 7, 7, 9, 8, 9, 7, 13, 8, 15, 7, 10, 10, 7, 7, 15, 9, 15, 7, 9, 15, 16, 7, 19, 7, 15, 15, 15, 8, 7, 9, 8, 7, 18, 8, 16, 10, 8, 8, 7, 15, 15, 8, 3, 13, 9, 8, 18, 8, 8, 15, 7, 6, 9, 15, 7, 9, 9, 7, 15, 7, 9, 15, 15, 15, 9, 7, 6, 3, 7, 8, 7, 7, 8, 7, 11, 15, 7, 16, 8, 15, 6, 9, 16, 8, 3, 9, 9, 7, 20, 15, 11, 8, 18, 15, 8, 7, 19, 8, 7, 7, 8, 8, 8, 10, 7, 7, 6, 8, 9, 7, 7, 7, 7, 7, 9, 15, 9, 18, 7, 8, 15, 18, 7, 9, 7, 7, 8, 15, 13, 11, 18, 9, 15, 13, 17, 15, 15, 10, 15, 8, 7, 8, 7, 7, 8, 8, 7, 15, 6, 8, 7, 15, 8, 7, 13, 7, 8, 6, 9, 8, 15, 15, 15, 8, 15, 8, 10, 7, 9, 15, 10, 15, 15, 15, 15, 7, 18, 18, 7, 15, 8, 9, 7, 3, 9, 18, 13, 9, 8, 7, 18, 8, 8, 18, 15, 15, 8, 6, 8, 7, 16, 8, 8, 11, 15, 16, 7, 13, 7, 7, 15, 8, 8, 13, 7, 15, 18, 8, 19, 15, 15, 17, 19, 7, 8, 19, 7, 15, 8, 10, 15, 8, 8, 9, 7, 15, 9, 8, 6, 16, 9, 8, 7, 9, 11, 3, 7, 18, 7, 7, 7, 10, 7, 10, 8, 8, 18, 7, 9, 19, 15, 7, 8, 9, 7, 9, 15, 9, 15, 19, 15, 10, 8, 15, 8, 9, 7, 0, 13, 15, 6, 15, 13, 7, 15, 9, 9, 6, 8, 9, 3, 7, 7, 9, 8, 9, 9, 7, 9, 15, 8, 18, 3, 7, 8, 7, 9, 7, 16, 6, 9, 15, 7, 8, 6, 15, 15, 7, 9, 8, 9, 15, 15, 6, 7, 15, 7, 8, 17, 20, 9, 7, 3, 7, 15, 19, 17, 7, 13, 18, 19, 7, 9, 0, 18, 15, 18, 19, 9, 20, 9, 15, 11, 7, 9, 18, 8, 15, 6, 8, 19, 7, 8, 8, 11, 8, 9, 9, 7, 7, 7, 8, 15, 9, 8, 4, 15, 7, 8, 8, 9, 8, 6, 18, 9, 15, 8, 9, 9, 7, 18, 8, 7, 8, 15, 9, 10, 15, 15, 9, 7, 15, 6, 7, 9, 15, 18, 20, 15, 9, 15, 9, 10, 15, 8, 15, 0, 18, 19, 16, 8, 8, 20, 9, 7, 7, 8, 9, 6, 15, 15, 7, 8, 7, 13, 19, 6, 7, 7, 7, 8, 13, 7, 8, 7, 9, 16, 11, 9, 7, 3, 8, 9, 18, 8, 15, 8, 7, 18, 8, 8, 15, 20, 15, 17, 8, 18, 8, 15, 10, 15, 7, 7, 8, 9, 15, 7, 9, 7, 15, 7, 16, 13, 7, 8, 9, 8, 8, 6, 8, 7, 9, 10, 8, 7, 7, 15, 8, 7, 18, 15, 3, 8, 8, 15, 15, 9, 15, 3, 20, 8, 18, 7, 8, 9, 18, 7, 11, 9, 15, 8, 15, 9, 9, 7, 7, 8, 9, 18, 8, 3, 18, 15, 15, 15, 15, 18, 13, 11, 15, 8, 18, 7, 9, 7, 9, 19, 8, 6, 9, 15, 8, 9, 8, 9, 8, 8, 7, 8, 13, 9, 3, 7, 9, 15, 8, 9, 9, 8, 18, 20, 7, 7, 7, 8, 9, 8, 0, 8, 8, 9, 8, 15, 15, 8, 15, 8, 7, 8, 6, 10, 18, 19, 7, 6, 10, 13, 15, 13, 15, 18, 9, 9, 8, 0, 19, 15, 7, 13, 7, 7, 16, 15, 6, 8, 9, 7, 3, 18, 8, 8, 8, 7, 7, 15, 9, 7, 18, 8, 15, 9, 7, 9, 9, 9, 18, 3, 8, 7, 15, 15, 8, 7, 15, 15, 6, 7, 19, 18, 20, 11, 7, 9, 7, 9, 15, 13, 9, 15, 6, 8, 8, 11, 8, 11, 9, 7, 9, 9, 9, 15, 6, 19, 6, 8, 17, 9, 17, 15, 0, 7, 11, 11, 7, 7, 7, 15, 8, 6, 7, 9, 8, 15, 7, 8, 17, 11, 7, 16, 15, 8, 18, 16, 9, 8, 7, 7, 15, 9, 8, 7, 9, 8, 7, 8, 18, 7, 7, 9, 9, 8, 7, 7, 8, 15, 15, 16, 8, 11, 8, 15, 7, 16, 7, 16, 8, 18, 15, 15, 7, 9, 6, 9, 15, 9, 8, 15, 8, 9, 15, 15, 9, 9, 15, 18, 7, 9, 9, 9, 7, 15, 15, 7, 8, 19, 6, 18, 7, 18, 8, 8, 9, 7, 3, 9, 11, 15, 0, 7, 7, 15, 7, 10, 18, 8, 9, 15, 19, 8, 18, 7, 9, 18, 7, 7, 15, 8, 6, 8, 8, 18, 9, 9, 8, 7, 8, 0, 15, 10, 13, 18, 8, 15, 8, 15, 16, 7, 8, 15, 17, 9, 18, 15, 15, 15, 15, 8, 7, 9, 8, 16, 7, 7, 15, 15, 8, 7, 10, 15, 15, 11, 8, 15, 7, 16, 17, 7, 17, 7, 15, 9, 7, 17, 16, 11, 15, 15, 9, 7, 15, 15, 7, 15, 7, 8, 7, 7, 9, 11, 8, 7, 19, 7, 7, 15, 7, 15, 15, 18, 16, 7, 13, 6, 6, 8, 9, 15, 7, 15, 20, 4, 9, 8, 11, 19, 13, 10, 11, 7, 7, 7, 8, 7, 3, 10, 9, 19, 7, 9, 13, 7, 7, 19, 8, 0, 8, 8, 8, 9, 9, 3, 8, 8, 7, 15, 8, 11, 8, 15, 15, 8, 13, 8, 9, 15, 15, 9, 8, 8, 20, 10, 6, 18, 9, 9, 18, 7, 15, 15, 9, 3, 20, 7, 13, 17, 7, 8, 10, 7, 7, 10, 6, 8, 8, 11, 9, 9, 9, 15, 7, 8, 9, 7, 15, 9, 8, 15, 8, 9, 8, 17, 17, 8, 9, 11, 15, 15, 8, 8, 9, 15, 15, 20, 8, 3, 15, 15, 8, 15, 8, 7, 20, 7, 15, 9, 7, 19, 8, 7, 9, 15, 8, 7, 15, 19, 7, 7, 15, 7, 8, 7, 7, 8, 8, 7, 8, 8, 7, 15, 9, 15, 7, 11, 18, 20, 9, 11, 19, 7, 15, 7, 7, 16, 15, 6, 8, 3, 8, 16, 11, 15, 9, 7, 15, 8, 18, 9, 18, 15, 9, 18, 8, 13, 15, 9, 16, 9, 20, 7, 18, 7, 16, 7, 8, 3, 8, 15, 3, 8, 7, 7, 8, 15, 7, 16, 19, 15, 8, 9, 15, 13, 9, 13, 7, 9, 7, 9, 3, 8, 7, 8, 7, 15, 7, 7, 15, 8, 7, 18, 10, 7, 15, 19, 18, 8, 18, 15, 17, 8, 9, 15, 18, 15, 13, 9, 15, 8, 8, 13, 11, 8, 15, 9, 9, 20, 13, 8, 18, 8, 9, 9, 18, 8, 8, 15, 15, 15, 20, 9, 6, 9, 8, 15, 7, 6, 11, 9, 8, 9, 6, 8, 13, 8, 15, 15, 7, 18, 8, 15, 8, 8, 7, 18, 19, 0, 9, 8, 15, 15, 18, 15, 8, 8, 15, 19, 8, 18, 15, 19, 15, 15, 16, 16, 13, 8, 15, 8, 16, 15, 16, 9, 8, 11, 18, 8, 3, 9, 10, 11, 7, 15, 8, 8, 16, 8, 9, 7, 15, 7, 8, 9, 7, 11, 9, 7, 8, 15, 7, 19, 6, 9, 8, 6, 8, 15, 7, 17, 7, 9, 7, 9, 7, 8, 10, 15, 18, 8, 7, 19, 15, 8, 15, 9, 18, 8, 16, 8, 17, 11, 11, 7, 7, 15, 15, 7, 6, 8, 8, 9, 9, 15, 7, 15, 9, 15, 7, 15, 15, 15, 9, 7, 15, 7, 15, 18, 7, 9, 15, 9, 8, 15, 8, 9, 15, 9, 9, 7, 8, 6, 7, 8, 15, 18, 15, 19, 15, 19, 9, 8, 15, 15, 8, 19, 7, 9, 15, 15, 20, 7, 7, 9, 6, 8, 8, 17, 9, 18, 15, 15, 9, 8, 7, 6, 8, 7, 9, 6, 18, 16, 0, 15, 3, 8, 9, 7, 7, 11, 9, 7, 6, 7, 9, 7, 10, 19, 18, 9, 7, 8, 9, 7, 15, 7, 9, 15, 15, 9, 8, 11, 8, 13, 7, 7, 9, 7, 9, 7, 15, 9, 7, 14, 9, 18, 9, 18, 8, 8, 10, 9, 8, 16, 9, 8, 9, 15, 4, 7, 9, 16, 18, 11, 7, 9, 8, 8, 11, 8, 7, 15, 15, 6, 8, 7, 15, 7, 15, 7, 10, 8, 7, 20, 7, 9, 15, 13, 0, 8, 8, 11, 7, 8, 13, 9, 7, 16, 10, 15, 9, 15, 7, 8, 15, 18, 7, 13, 8, 8, 10, 11, 15, 11, 18, 15, 8, 18, 15, 9, 6, 18, 13, 8, 8, 7, 0, 7, 8, 15, 8, 6, 8, 7, 16, 7, 11, 8, 3, 9, 8, 18, 6, 15, 11, 8, 8, 11, 7, 7, 7, 8, 15, 8, 18, 7, 9, 8, 16, 9, 19, 15, 9, 9, 8, 7, 11, 15, 9, 9, 16, 9, 8, 18, 17, 3, 11, 19, 15, 7, 3, 10, 9, 9, 8, 7, 8, 7, 13, 18, 7, 8, 7, 7, 15, 15, 7, 7, 8, 16, 8, 15, 7, 9, 15, 15, 19, 16, 7, 7, 15, 9, 20, 9, 18, 7, 7, 6, 18, 7, 8, 9, 18, 9, 17, 8, 7, 9, 8, 6, 13, 0, 8, 15, 6, 9, 8, 9, 9, 8, 7, 15, 7, 9, 20, 7, 18, 8, 7, 8, 19, 8, 9, 8, 3, 7, 6, 13, 7, 15, 9, 15, 18, 9, 8, 9, 15, 7, 9, 15, 18, 16, 13, 8, 7, 9, 9, 7, 8, 9, 10, 8, 15, 7, 15, 7, 9, 8, 8, 16, 17, 8, 10, 9, 7, 18, 15, 15, 13, 8, 19, 0, 9, 0, 15, 9, 13, 3, 16, 9, 9, 6, 7, 8, 13, 7, 6, 7, 16, 8, 8, 15, 8, 15, 8, 9, 9, 8, 6, 9, 0, 19, 6, 8, 8, 7, 18, 20, 13, 8, 8, 7, 15, 8, 7, 15, 7, 13, 11, 9, 7, 15, 8, 6, 7, 8, 7, 15, 7, 15, 9, 9, 9, 10, 15, 8, 3, 7, 9, 9, 9, 7, 7, 8, 8, 8, 8, 15, 9, 8, 19, 3, 11, 8, 18, 7, 16, 10, 7, 15, 9, 8, 18, 18, 16, 7, 7, 7, 19, 18, 15, 7, 8, 18, 9, 13, 8, 16, 8, 15, 8, 9, 15, 7, 10, 3, 7, 19, 15, 9, 10, 9, 15, 11, 10, 8, 15, 8, 13, 18, 7, 8, 9, 15, 9, 7, 9, 7, 19, 11, 9, 8, 7, 6, 9, 8, 3, 15, 8, 18, 11, 6, 15, 15, 9, 9, 9, 10, 16, 4, 9, 9, 7, 8, 15, 7, 9, 9, 9, 13, 8, 8, 8, 8, 8, 7, 7, 18, 7, 15, 9, 19, 7, 9, 8, 18, 15, 7, 15, 7, 11, 0, 7, 9, 7, 15, 11, 7, 16, 10, 7, 15, 8, 7, 9, 6, 7, 15, 15, 17, 15, 15, 8, 9, 7, 7, 9, 8, 15, 9, 7, 15, 9, 9, 18, 8, 7, 3, 15, 9, 16, 15, 20, 15, 15, 8, 11, 7, 9, 9, 7, 8, 0, 18, 15, 7, 18, 15, 7, 15, 9, 9, 13, 9, 15, 9, 6, 7, 15, 9, 9, 7, 13, 8, 16, 7, 8, 18, 15, 8, 18, 7, 11, 9, 15, 15, 18, 15, 7, 7, 9, 7, 9, 18, 6, 15, 15, 8, 8, 13, 7, 7, 16, 7, 9, 15, 7, 15, 15, 8, 15, 15, 9, 18, 15, 15, 18, 8, 7, 9, 7, 8, 16, 7, 11, 9, 7, 8, 11, 9, 9, 18, 7, 8, 7, 7, 8, 15, 6, 9, 6, 8, 7, 9, 20, 15, 10, 8, 9, 7, 7, 15, 20, 8, 9, 11, 7, 15, 8, 7, 7, 8, 15, 15, 18, 7, 8, 8, 8, 7, 18, 8, 7, 8, 8, 0, 15, 7, 9, 7, 15, 8, 15, 18, 6, 15, 8, 7, 15, 9, 15, 8, 7, 10, 18, 8, 7, 9, 9, 8, 15, 8, 18, 8, 7, 8, 15, 15, 10, 9, 10, 9, 18, 8, 7, 18, 7, 15, 8, 9, 9, 20, 7, 7, 15, 18, 7, 15, 16, 7, 15, 8, 7, 7, 9, 7, 8, 8, 9, 16, 20, 8, 6, 8, 7, 10, 9, 8, 6, 8, 10, 7, 7, 15, 7, 8, 6, 7, 13, 18, 7, 15, 9, 7, 8, 9, 9, 6, 13, 8, 8, 7, 9, 8, 7, 8, 15, 15, 20, 3, 6, 14, 18, 15, 7, 15, 8, 11, 8, 7, 17, 9, 6, 15, 13, 9, 10, 7, 15, 9, 8, 15, 7, 18, 8, 7, 9, 7, 15, 8, 7, 13, 6, 8, 15, 18, 15, 15, 0, 18, 15, 18, 8, 15, 7, 9, 18, 8, 18, 15, 7, 8, 16, 7, 15, 15, 15, 19, 8, 17, 7, 8, 13, 17, 15, 13, 15, 15, 8, 7, 10, 7, 9, 8, 9, 9, 7, 8, 7, 7, 7, 15, 15, 15, 8, 15, 8, 7, 7, 15, 18, 8, 9, 8, 7, 6, 15, 8, 9, 15, 7, 9, 7, 8, 8, 15, 15, 15, 9, 11, 15, 18, 7, 9, 7, 15, 16, 8, 8, 7, 17, 17, 15, 11, 9, 6, 8, 13, 8, 3, 18, 8, 16, 15, 3, 8, 9, 0, 8, 10, 7, 8, 7, 7, 15, 15, 7, 7, 9, 19, 15, 11, 7, 8, 9, 9, 8, 0, 15, 15, 9, 7, 16, 7, 18, 7, 11, 8, 13, 7, 18, 8, 9, 6, 7, 16, 18, 11, 8, 9, 7, 6, 18, 9, 9, 8, 7, 15, 15, 8, 16, 13, 8, 9, 15, 9, 7, 7, 6, 8, 9, 16, 7, 8, 8, 7, 20, 7, 8, 6, 6, 19, 19, 15, 10, 8, 8, 13, 15, 9, 8, 17, 7, 8, 8, 18, 18, 3, 18, 15, 15, 19, 15, 9, 15, 9, 15, 0, 7, 10, 15, 9, 8, 11, 7, 8, 8, 11, 15, 10, 18, 6, 9, 7, 15, 8, 15, 19, 7, 6, 13, 15, 7, 9, 7, 15, 11, 7, 13, 15, 6, 8, 15, 9, 18, 11, 8, 9, 9, 18, 13, 3, 6, 7, 8, 15, 7, 15, 15, 7, 15, 15, 8, 15, 16, 7, 11, 9, 17, 16, 15, 15, 8, 7, 8, 9, 11, 9, 7, 9, 15, 15, 9, 8, 6, 15, 15, 11, 8, 8, 8, 8, 8, 8, 13, 7, 7, 6, 7, 15, 7, 9, 16, 9, 15, 7, 8, 15, 15, 7, 6, 8, 10, 8, 19, 8, 7, 7, 13, 7, 15, 8, 20, 9, 7, 15, 8, 8, 9, 18, 8, 7, 9, 9, 7, 9, 15, 9, 8, 7, 9, 6, 18, 17, 7, 8, 7, 7, 9, 8, 9, 8, 7, 8, 20, 9, 8, 8, 18, 16, 7, 13, 8, 9, 13, 13, 6, 6, 8, 18, 7, 9, 7, 15, 6, 9, 13, 3, 9, 15, 6, 15, 15, 6, 13, 9, 15, 15, 15, 7, 19, 8, 9, 15, 8, 15, 0, 7, 9, 7, 15, 15, 17, 7, 19, 9, 7, 0, 9, 7, 7, 8, 16, 6, 7, 15, 8, 8, 7, 7, 7, 7, 7, 13, 11, 15, 15, 8, 9, 7, 9, 11, 8, 18, 15, 15, 15, 20, 15, 8, 15, 18, 15, 18, 7, 8, 8, 9, 7, 7, 8, 15, 8, 9, 9, 7, 9, 9, 15, 7, 15, 7, 9, 8, 8, 15, 9, 8, 15, 8, 8, 17, 6, 15, 15, 15, 8, 20, 8, 9, 18, 15, 13, 11, 7, 7, 15, 7, 8, 9, 6, 8, 17, 15, 8, 7, 7, 18, 7, 18, 18, 9, 17, 20, 15, 15, 7, 9, 8, 15, 9, 7, 15, 16, 3, 9, 16, 3, 7, 10, 7, 15, 8, 4, 15, 7, 7, 8, 20, 7, 7, 16, 16, 15, 9, 11, 13, 7, 6, 7, 6, 13, 8, 3, 8, 9, 15, 7, 8, 9, 6, 9, 15, 9, 7, 15, 9, 19, 8, 9, 8, 6, 8, 7, 7, 7, 7, 7, 7, 13, 17, 13, 9, 18, 7, 8, 7, 15, 10, 19, 15, 9, 10, 15, 15, 7, 9, 10, 7, 16, 15, 7, 7, 9, 7, 9, 18, 15, 8, 18, 17, 9, 15, 15, 18, 16, 6, 0, 7, 15, 18, 13, 8, 19, 7, 15, 7, 8, 9, 13, 9, 6, 18, 7, 6, 20, 9, 16, 11, 7, 9, 8, 7, 15, 9, 10, 8, 9, 8, 7, 15, 19, 8, 7, 8, 3, 7, 8, 8, 15, 15, 7, 8, 9, 8, 8, 18, 15, 7, 19, 15, 9, 8, 10, 7, 15, 18, 7, 8, 15, 6, 7, 15, 9, 9, 8, 8, 7, 8, 7, 9, 8, 8, 8, 15, 16, 7, 8, 8, 16, 9, 8, 9, 15, 13, 4, 7, 7, 9, 8, 15, 7, 15, 19, 7, 8, 15, 9, 7, 9, 15, 8, 7, 7, 8, 18, 6, 9, 15, 7, 7, 18, 8, 15, 11, 7, 7, 8, 20, 9, 7, 10, 7, 7, 8, 15, 7, 11, 9, 15, 7, 9, 11, 19, 17, 7, 8, 6, 6, 15, 8, 19, 10, 9, 7, 7, 8, 9, 7, 11, 9, 13, 9, 9, 9, 16, 6, 8, 11, 9, 9, 18, 9, 7, 13, 9, 15, 9, 7, 9, 15, 15, 19, 7, 15, 7, 13, 6, 18, 7, 15, 15, 7, 15, 7, 7, 7, 6, 8, 9, 8, 19, 11, 8, 8, 15, 7, 7, 15, 16, 9, 7, 7, 7, 3, 8, 9, 8, 15, 15, 7, 8, 7, 15, 15, 15, 8, 7, 18, 18, 7, 7, 9, 15, 11, 7, 16, 9, 8, 16, 8, 9, 9, 15, 7, 15, 18, 7, 9, 18, 8, 18, 16, 7, 7, 7, 8, 8, 9, 6, 18, 7, 8, 8, 15, 7, 13, 7, 15, 15, 7, 8, 9, 19, 6, 8, 15, 8, 7, 15, 8, 18, 18, 7, 13, 9, 15, 8, 8, 9, 18, 18, 3, 13, 7, 7, 8, 6, 16, 3, 15, 11, 20, 8, 16, 7, 7, 0, 7, 10, 7, 16, 15, 9, 13, 15, 18, 7, 15, 18, 15, 18, 16, 9, 11, 8, 15, 8, 9, 7, 7, 9, 6, 7, 8, 16, 7, 18, 9, 8, 3, 7, 17, 7, 8, 15, 8, 8, 20, 17, 15, 17, 19, 16, 9, 7, 15, 7, 19, 7, 15, 7, 15, 8, 9, 9, 3, 9, 9, 19, 15, 9, 11, 7, 8, 8, 7, 7, 19, 13, 9, 15, 15, 9, 9, 6, 18, 8, 20, 8, 18, 6, 8, 15, 0, 15, 15, 18, 7, 8, 8, 7, 6, 15, 15, 9, 6, 7, 19, 8, 15, 7, 18, 9, 8, 18, 15, 8, 15, 8, 6, 15, 6, 15, 7, 13, 8, 7, 7, 7, 6, 18, 8, 6, 15, 9, 7, 9, 9, 6, 8, 15, 18, 20, 7, 9, 8, 7, 15, 7, 11, 18, 8, 18, 15, 7, 15, 9, 7, 9, 15, 11, 9, 8, 0, 15, 3, 10, 8, 15, 9, 8, 19, 15, 15, 11, 8, 18, 18, 9, 13, 7, 9, 7, 9, 8, 8, 19, 18, 7, 7, 8, 6, 9, 7, 15, 9, 8, 6, 8, 6, 7, 8, 15, 10, 9, 9, 9, 7, 11, 8, 3, 8, 15, 15, 8, 20, 9, 18, 7, 7, 7, 18, 7, 8, 11, 8, 7, 8, 7, 8, 8, 7, 8, 8, 9, 9, 15, 19, 7, 0, 8, 15, 9, 15, 9, 9, 8, 18, 9, 3, 7, 16, 8, 8, 7, 9, 8, 15, 8, 7, 8, 10, 7, 9, 13, 18, 6, 8, 10, 8, 8, 8, 9, 8, 13, 6, 7, 8, 9, 18, 9, 9, 8, 8, 8, 8, 8, 8, 18, 15, 9, 7, 15, 7, 7, 7, 7, 8, 11, 20, 8, 4, 8, 7, 10, 15, 8, 9, 7, 7, 7, 9, 8, 15, 9, 11, 6, 3, 15, 7, 7, 7, 9, 8, 8, 15, 6, 7, 15, 8, 7, 15, 8, 19, 7, 7, 9, 7, 9, 9, 7, 7, 8, 15, 20, 8, 15, 11, 8, 8, 18, 7, 6, 11, 6, 8, 8, 7, 9, 11, 17, 18, 15, 9, 9, 8, 15, 18, 13, 8, 3, 7, 9, 7, 15, 18, 13, 8, 9, 7, 9, 8, 8, 10, 20, 19, 18, 7, 16, 9, 7, 8, 15, 15, 9, 9, 8, 6, 15, 8, 7, 15, 18, 7, 18, 8, 7, 8, 20, 8, 10, 15, 11, 19, 8, 15, 15, 9, 9, 15, 7, 9, 3, 8, 9, 19, 8, 8, 8, 20, 8, 7, 15, 9, 7, 15, 0, 9, 18, 15, 6, 3, 15, 18, 18, 15, 6, 8, 13, 19, 15, 7, 18, 6, 9, 8, 15, 11, 9, 7, 10, 16, 11, 18, 15, 16, 19, 16, 6, 16, 8, 9, 10, 8, 8, 8, 15, 8, 6, 8, 8, 14, 9, 8, 18, 7, 10, 19, 15, 19, 19, 8, 9, 7, 18, 18]\n"
     ]
    }
   ],
   "source": [
    "#print(np.argmax(i))\n",
    "y_pred =[]\n",
    "for i in Y_pred:\n",
    "    y_pred.append(np.argmax(i))\n",
    "\n",
    "print(y_pred)"
   ]
  },
  {
   "cell_type": "code",
   "execution_count": 37,
   "metadata": {},
   "outputs": [
    {
     "data": {
      "text/html": [
       "<div>\n",
       "<style scoped>\n",
       "    .dataframe tbody tr th:only-of-type {\n",
       "        vertical-align: middle;\n",
       "    }\n",
       "\n",
       "    .dataframe tbody tr th {\n",
       "        vertical-align: top;\n",
       "    }\n",
       "\n",
       "    .dataframe thead th {\n",
       "        text-align: right;\n",
       "    }\n",
       "</style>\n",
       "<table border=\"1\" class=\"dataframe\">\n",
       "  <thead>\n",
       "    <tr style=\"text-align: right;\">\n",
       "      <th></th>\n",
       "      <th>id</th>\n",
       "      <th>categories</th>\n",
       "    </tr>\n",
       "  </thead>\n",
       "  <tbody>\n",
       "    <tr>\n",
       "      <th>0</th>\n",
       "      <td>1</td>\n",
       "      <td>MEDICATION RELATED</td>\n",
       "    </tr>\n",
       "    <tr>\n",
       "      <th>1</th>\n",
       "      <td>2</td>\n",
       "      <td>OTHERS</td>\n",
       "    </tr>\n",
       "    <tr>\n",
       "      <th>2</th>\n",
       "      <td>3</td>\n",
       "      <td>MEDICATION RELATED</td>\n",
       "    </tr>\n",
       "    <tr>\n",
       "      <th>3</th>\n",
       "      <td>4</td>\n",
       "      <td>QUERIES FROM PHARMACY</td>\n",
       "    </tr>\n",
       "    <tr>\n",
       "      <th>4</th>\n",
       "      <td>5</td>\n",
       "      <td>SHARING OF HEALTH RECORDS (FAX, E-MAIL, ETC.)</td>\n",
       "    </tr>\n",
       "  </tbody>\n",
       "</table>\n",
       "</div>"
      ],
      "text/plain": [
       "   id                                     categories\n",
       "0   1                             MEDICATION RELATED\n",
       "1   2                                         OTHERS\n",
       "2   3                             MEDICATION RELATED\n",
       "3   4                          QUERIES FROM PHARMACY\n",
       "4   5  SHARING OF HEALTH RECORDS (FAX, E-MAIL, ETC.)"
      ]
     },
     "execution_count": 37,
     "metadata": {},
     "output_type": "execute_result"
    }
   ],
   "source": [
    "op =labelencoder.inverse_transform(y_pred)\n",
    "d = {'id': Data_Test['id'], 'categories': op}\n",
    "df = pd.DataFrame(data=d)\n",
    "df.head()"
   ]
  },
  {
   "cell_type": "code",
   "execution_count": 40,
   "metadata": {},
   "outputs": [
    {
     "name": "stdout",
     "output_type": "stream",
     "text": [
      "Predictions saved to disk: C:/Users/CE700/Downloads/INSOFE/HoteANN/Predict_1_stop_word.csv\n"
     ]
    }
   ],
   "source": [
    "#df = pd.DataFrame(op,columns=['categories'])\n",
    "out_csv = 'C:/Users/CE700/Downloads/INSOFE/HoteANN/Predict_1_stop_word.csv'\n",
    "df.to_csv(out_csv, index=False, header=True)\n",
    "print(\"Predictions saved to disk: {0}\".format(out_csv))"
   ]
  },
  {
   "cell_type": "markdown",
   "metadata": {},
   "source": [
    "### Lets Try second Model with Dropout"
   ]
  },
  {
   "cell_type": "code",
   "execution_count": null,
   "metadata": {},
   "outputs": [],
   "source": [
    "model = Sequential()\n",
    "model.add(Embedding(vocab_size, 50, input_length=max_length))\n",
    "model.add(Activation('relu'))\n",
    "model.add(Dropout(0.1))\n",
    "model.add(Flatten())\n",
    "model.add(Dense(21))\n",
    "model.add(Activation('relu'))\n",
    "model.add(Dense(21))\n",
    "model.add(Activation('softmax'))\n",
    "model.compile(optimizer='adam', loss='categorical_crossentropy', metrics=['accuracy'])\n",
    "print(model.summary())"
   ]
  },
  {
   "cell_type": "code",
   "execution_count": null,
   "metadata": {},
   "outputs": [],
   "source": [
    "import keras as keras\n",
    "from keras.callbacks import Callback\n",
    "mc = keras.callbacks.ModelCheckpoint('weights{epoch:08d}.h5', \n",
    "                                     save_weights_only=True, period=5)\n",
    "model.fit(X_train, y_train, validation_data=(X_test, y_test), epochs=2,verbose=1, callbacks=[mc])"
   ]
  },
  {
   "cell_type": "code",
   "execution_count": null,
   "metadata": {},
   "outputs": [],
   "source": [
    "#model.fit(X_train, y_train, validation_data=(X_test, y_test), epochs=2,verbose=1)"
   ]
  },
  {
   "cell_type": "code",
   "execution_count": null,
   "metadata": {},
   "outputs": [],
   "source": [
    "loss, accuracy = model.evaluate(X_test, y_test, verbose=1)\n",
    "print('Accuracy: %f' % (accuracy*100))"
   ]
  },
  {
   "cell_type": "code",
   "execution_count": null,
   "metadata": {},
   "outputs": [],
   "source": [
    "Y_pred_2 = model.predict(padded_docs_Test)\n",
    "print(Y_pred_2[0:5])"
   ]
  },
  {
   "cell_type": "code",
   "execution_count": null,
   "metadata": {},
   "outputs": [],
   "source": [
    "y_pred_22 =[]\n",
    "for i in Y_pred_2:\n",
    "    y_pred_22.append(np.argmax(i))\n",
    "\n",
    "print(y_pred_22)"
   ]
  },
  {
   "cell_type": "code",
   "execution_count": null,
   "metadata": {},
   "outputs": [],
   "source": [
    "op_2 =labelencoder.inverse_transform(y_pred_22)\n",
    "d_2 = {'id': Data_Test['id'], 'categories': op_2}\n",
    "df_2 = pd.DataFrame(data=d_2)\n",
    "df_2.head()"
   ]
  },
  {
   "cell_type": "code",
   "execution_count": null,
   "metadata": {},
   "outputs": [],
   "source": [
    "#df = pd.DataFrame(op,columns=['categories'])\n",
    "out_csv = 'C:/Users/CE700/Downloads/INSOFE/HoteANN/Predict_stopword.csv'\n",
    "df_2.to_csv(out_csv, index=False, header=True)\n",
    "print(\"Predictions saved to disk: {0}\".format(out_csv))"
   ]
  },
  {
   "cell_type": "markdown",
   "metadata": {
    "colab_type": "text",
    "id": "6TMX6MoUY9lg"
   },
   "source": [
    "### Using Pre-Trained GloVe Embedding"
   ]
  },
  {
   "cell_type": "code",
   "execution_count": null,
   "metadata": {
    "colab": {},
    "colab_type": "code",
    "id": "kg71cZVkY9lh"
   },
   "outputs": [],
   "source": [
    "embeddings_index = {}\n",
    "PATH = os.getcwd()\n",
    "\n",
    "TEXT_DATA_DIR = os.path.join(PATH, \"txt\")\n",
    "f = open(os.path.join(PATH, 'glove.6B.50d.txt'), encoding=\"utf8\")\n",
    "for line in f:\n",
    "    values = line.split()\n",
    "    word = values[0]\n",
    "    coefs = np.asarray(values[1:], dtype='float32')\n",
    "    embeddings_index[word] = coefs\n",
    "f.close()\n",
    "\n",
    "print('Found %s word vectors.' % len(embeddings_index))"
   ]
  },
  {
   "cell_type": "code",
   "execution_count": null,
   "metadata": {
    "colab": {},
    "colab_type": "code",
    "id": "9vq_MuhUd9BZ"
   },
   "outputs": [],
   "source": [
    "embedding_Matrix = np.zeros((vocab_size, 50))\n",
    "for word, i in t.word_index.items():\n",
    "    embedding_Vector = embeddings_index.get(word)\n",
    "    if embedding_Vector is not None:\n",
    "        # words not found in embedding index will be all-zeros.\n",
    "        embedding_Matrix[i] = embedding_Vector\n",
    "\n",
    "print (embedding_Matrix.shape)"
   ]
  },
  {
   "cell_type": "code",
   "execution_count": null,
   "metadata": {},
   "outputs": [],
   "source": [
    "embedding_layer = Embedding(vocab_size,\n",
    "                            50,\n",
    "                            weights=[embedding_Matrix],\n",
    "                            input_length=max_length,\n",
    "                            trainable=False)"
   ]
  },
  {
   "cell_type": "markdown",
   "metadata": {},
   "source": [
    "### CNN With Glove Embedding"
   ]
  },
  {
   "cell_type": "code",
   "execution_count": null,
   "metadata": {},
   "outputs": [],
   "source": [
    "# define the model\n",
    "model = Sequential()\n",
    "from keras.models import Model\n",
    "sequence_input = Input(shape=(max_length,), dtype='int32')\n",
    "embedded_sequences = embedding_layer(sequence_input)\n",
    "x = Conv1D(64, 5, activation='relu')(embedded_sequences)\n",
    "x = MaxPooling1D(4)(x)\n",
    "x = Conv1D(64, 5, activation='relu')(x)\n",
    "x = MaxPooling1D(4)(x)\n",
    "x = Conv1D(64, 5, activation='relu')(x)\n",
    "x = MaxPooling1D(4)(x)  # global max pooling\n",
    "x = Flatten()(x)\n",
    "x = Dense(64, activation='relu')(x)\n",
    "preds = Dense(21, activation='softmax')(x)\n",
    "\n",
    "model = Model(sequence_input, preds)\n",
    "\n",
    "# compile the model\n",
    "model.compile(optimizer='adam', loss='categorical_crossentropy', metrics=['accuracy'])\n",
    "# summarize the model\n",
    "print(model.summary())\n",
    "\n",
    "# model = Sequential()\n",
    "# model.add(Embedding(vocab_size, 50, input_length=max_length,weights=[embedding_Matrix],trainable=False))\n",
    "# model.add(Activation('relu'))\n",
    "# model.add(Dropout(0.1))\n",
    "# model.add(Flatten())\n",
    "# model.add(Dense(21))\n",
    "# model.add(Activation('softmax'))\n",
    "# # sgd = SGD(lr=0.001, decay=1e-6, momentum=0.9, nesterov=True)\n",
    "# model.compile(optimizer='sgd', loss='categorical_crossentropy', metrics=['accuracy'])\n",
    "# print(model.summary())"
   ]
  },
  {
   "cell_type": "code",
   "execution_count": null,
   "metadata": {},
   "outputs": [],
   "source": [
    "# fit the model\n",
    "#model.fit(padded_docs, labels, epochs=50, verbose=0)\n",
    "model.fit(X_train, y_train, validation_data=(X_test, y_test), epochs=100,verbose=1, batch_size=64)"
   ]
  },
  {
   "cell_type": "code",
   "execution_count": null,
   "metadata": {},
   "outputs": [],
   "source": [
    "# evaluate the model\n",
    "loss, accuracy = model.evaluate(X_test, y_test, verbose=0)\n",
    "print('Accuracy: %f' % (accuracy*100))"
   ]
  },
  {
   "cell_type": "code",
   "execution_count": null,
   "metadata": {},
   "outputs": [],
   "source": [
    "Y_pred_3 = model.predict(padded_docs_Test)\n",
    "print(Y_pred_3[0:5])"
   ]
  },
  {
   "cell_type": "code",
   "execution_count": null,
   "metadata": {},
   "outputs": [],
   "source": [
    "y_pred_33 =[]\n",
    "for i in Y_pred_3:\n",
    "    y_pred_33.append(np.argmax(i))\n",
    "\n",
    "print(y_pred_33)"
   ]
  },
  {
   "cell_type": "code",
   "execution_count": null,
   "metadata": {},
   "outputs": [],
   "source": [
    "op_3 =labelencoder.inverse_transform(y_pred_33)\n",
    "d_3 = {'id': Data_Test['id'], 'categories': op_3}\n",
    "df_3 = pd.DataFrame(data=d_3)\n",
    "df_3.head()\n",
    "#df = pd.DataFrame(op,columns=['categories'])\n",
    "out_csv = 'C:/Users/CE700/Downloads/INSOFE/HoteANN/Predict_3.csv'\n",
    "df_3.to_csv(out_csv, index=False, header=True)\n",
    "print(\"Predictions saved to disk: {0}\".format(out_csv))"
   ]
  },
  {
   "cell_type": "markdown",
   "metadata": {},
   "source": [
    "### Lets Try LSTM"
   ]
  },
  {
   "cell_type": "code",
   "execution_count": null,
   "metadata": {},
   "outputs": [],
   "source": [
    "# define the model\n",
    "model = Sequential()\n",
    "model.add(Embedding(vocab_size, 32, input_length=max_length))\n",
    "model.add(LSTM(100))\n",
    "#model.add(Flatten())\n",
    "model.add(Dense(21,activation='softmax'))\n",
    "# compile the model\n",
    "model.compile(optimizer='adam', loss='categorical_crossentropy', metrics=['accuracy'])\n",
    "print(model.summary())"
   ]
  },
  {
   "cell_type": "code",
   "execution_count": null,
   "metadata": {},
   "outputs": [],
   "source": [
    "model.fit(X_train, y_train, validation_data=(X_test, y_test), epochs=3,verbose=1, batch_size=64)"
   ]
  },
  {
   "cell_type": "code",
   "execution_count": null,
   "metadata": {},
   "outputs": [],
   "source": [
    "# evaluate the model\n",
    "loss, accuracy = model.evaluate(X_test, y_test, verbose=0)\n",
    "print('Accuracy: %f' % (accuracy*100))"
   ]
  },
  {
   "cell_type": "code",
   "execution_count": null,
   "metadata": {},
   "outputs": [],
   "source": [
    "Y_pred_4 = model.predict(padded_docs_Test)\n",
    "print(Y_pred_4[0:5])"
   ]
  },
  {
   "cell_type": "code",
   "execution_count": null,
   "metadata": {},
   "outputs": [],
   "source": [
    "y_pred_44 =[]\n",
    "for i in Y_pred_4:\n",
    "    y_pred_44.append(np.argmax(i))\n",
    "\n",
    "print(y_pred_44)"
   ]
  },
  {
   "cell_type": "code",
   "execution_count": null,
   "metadata": {},
   "outputs": [],
   "source": [
    "op_4 =labelencoder.inverse_transform(y_pred_44)\n",
    "d_4 = {'id': Data_Test['id'], 'categories': op_4}\n",
    "df_4 = pd.DataFrame(data=d_4)\n",
    "df_4.head()\n",
    "#df = pd.DataFrame(op,columns=['categories'])\n",
    "out_csv = 'C:/Users/CE700/Downloads/INSOFE/HoteANN/Predict_4.csv'\n",
    "df_4.to_csv(out_csv, index=False, header=True)\n",
    "print(\"Predictions saved to disk: {0}\".format(out_csv))"
   ]
  },
  {
   "cell_type": "markdown",
   "metadata": {},
   "source": [
    "### LSTM With Dropout"
   ]
  },
  {
   "cell_type": "code",
   "execution_count": null,
   "metadata": {},
   "outputs": [],
   "source": [
    "# define the model\n",
    "model = Sequential()\n",
    "model.add(Embedding(vocab_size, 32, input_length=max_length))\n",
    "model.add(Dropout(0.2))\n",
    "model.add(LSTM(100))\n",
    "model.add(Dropout(0.2))\n",
    "model.add(Dense(21,activation='softmax'))\n",
    "# compile the model\n",
    "model.compile(optimizer='adam', loss='categorical_crossentropy', metrics=['accuracy'])\n",
    "print(model.summary())"
   ]
  },
  {
   "cell_type": "code",
   "execution_count": null,
   "metadata": {},
   "outputs": [],
   "source": [
    "model.fit(X_train, y_train, validation_data=(X_test, y_test), epochs=3,verbose=1, batch_size=64)"
   ]
  },
  {
   "cell_type": "code",
   "execution_count": null,
   "metadata": {},
   "outputs": [],
   "source": [
    "# evaluate the model\n",
    "loss, accuracy = model.evaluate(X_test, y_test, verbose=0)\n",
    "print('Accuracy: %f' % (accuracy*100))"
   ]
  },
  {
   "cell_type": "code",
   "execution_count": null,
   "metadata": {},
   "outputs": [],
   "source": [
    "Y_pred_5 = model.predict(padded_docs_Test)\n",
    "print(Y_pred_5[0:5])"
   ]
  },
  {
   "cell_type": "code",
   "execution_count": null,
   "metadata": {},
   "outputs": [],
   "source": [
    "y_pred_55 =[]\n",
    "for i in Y_pred_5:\n",
    "    y_pred_55.append(np.argmax(i))\n",
    "\n",
    "print(y_pred_55)"
   ]
  },
  {
   "cell_type": "code",
   "execution_count": null,
   "metadata": {},
   "outputs": [],
   "source": [
    "op_5 =labelencoder.inverse_transform(y_pred_55)\n",
    "d_5 = {'id': Data_Test['id'], 'categories': op_5}\n",
    "df_5 = pd.DataFrame(data=d_5)\n",
    "df_5.head()\n",
    "#df = pd.DataFrame(op,columns=['categories'])\n",
    "out_csv = 'C:/Users/CE700/Downloads/INSOFE/HoteANN/Predict_5.csv'\n",
    "df_5.to_csv(out_csv, index=False, header=True)\n",
    "print(\"Predictions saved to disk: {0}\".format(out_csv))"
   ]
  },
  {
   "cell_type": "markdown",
   "metadata": {},
   "source": [
    "### recurrent_dropout With LSTM and Glove"
   ]
  },
  {
   "cell_type": "code",
   "execution_count": null,
   "metadata": {},
   "outputs": [],
   "source": [
    "# define the model\n",
    "model = Sequential()\n",
    "model.add(Embedding(vocab_size, 50, input_length=max_length,weights=[embedding_Matrix],trainable=False))\n",
    "model.add(LSTM(100, dropout=0.2, recurrent_dropout=0.2))\n",
    "model.add(Dense(21,activation='softmax'))\n",
    "# compile the model\n",
    "model.compile(optimizer='adam', loss='categorical_crossentropy', metrics=['accuracy'])\n",
    "print(model.summary())"
   ]
  },
  {
   "cell_type": "code",
   "execution_count": null,
   "metadata": {},
   "outputs": [],
   "source": [
    "model.fit(X_train, y_train, validation_data=(X_test, y_test), epochs=3,verbose=1, batch_size=64)"
   ]
  },
  {
   "cell_type": "code",
   "execution_count": null,
   "metadata": {},
   "outputs": [],
   "source": [
    "# evaluate the model\n",
    "loss, accuracy = model.evaluate(X_test, y_test, verbose=0)\n",
    "print('Accuracy: %f' % (accuracy*100))"
   ]
  },
  {
   "cell_type": "code",
   "execution_count": null,
   "metadata": {},
   "outputs": [],
   "source": [
    "Y_pred_6 = model.predict(padded_docs_Test)\n",
    "print(Y_pred_6[0:5])"
   ]
  },
  {
   "cell_type": "code",
   "execution_count": null,
   "metadata": {},
   "outputs": [],
   "source": [
    "y_pred_66 =[]\n",
    "for i in Y_pred_6:\n",
    "    y_pred_66.append(np.argmax(i))\n",
    "\n",
    "print(y_pred_66)"
   ]
  },
  {
   "cell_type": "code",
   "execution_count": null,
   "metadata": {},
   "outputs": [],
   "source": [
    "op_6 =labelencoder.inverse_transform(y_pred_66)\n",
    "d_6 = {'id': Data_Test['id'], 'categories': op_6}\n",
    "df_6 = pd.DataFrame(data=d_6)\n",
    "df_6.head()\n",
    "#df = pd.DataFrame(op,columns=['categories'])\n",
    "out_csv = 'C:/Users/CE700/Downloads/INSOFE/HoteANN/Predict_6.csv'\n",
    "df_6.to_csv(out_csv, index=False, header=True)\n",
    "print(\"Predictions saved to disk: {0}\".format(out_csv))"
   ]
  },
  {
   "cell_type": "markdown",
   "metadata": {},
   "source": [
    "### TWO LAYER CNN"
   ]
  },
  {
   "cell_type": "code",
   "execution_count": null,
   "metadata": {},
   "outputs": [],
   "source": [
    "# Shared Input Layer\n",
    "# from keras.utils import plot_model\n",
    "# from keras.models import Model\n",
    "# from keras.layers import Input\n",
    "# from keras.layers import Dense\n",
    "# from keras.layers import Flatten\n",
    "# from keras.layers.convolutional import Conv2D\n",
    "# from keras.layers.pooling import MaxPooling2D\n",
    "# from keras.layers.merge import concatenate\n",
    "# # input layer\n",
    "\n",
    "# #model = Sequential()\n",
    "# from keras.models import Model\n",
    "# sequence_input = Input(shape=(None, max_length, 1), dtype='int32')\n",
    "#  embedded_sequences = embedding_layer(sequence_input)\n",
    "# conv1 = Conv1D(64, 5, activation='relu')(sequence_input)\n",
    "# pool1 = MaxPooling1D(4)(conv1)\n",
    "# flat1 = Flatten()(pool1)\n",
    "# conv2 = Conv1D(64, 5, activation='relu')\n",
    "# pool2 = MaxPooling1D(4)(conv2)\n",
    "# flat2 = Flatten()(pool2)\n",
    "# conv3 = Conv1D(64, 5, activation='relu')\n",
    "# pool3 = MaxPooling1D(4)(conv3)  # global max pooling\n",
    "# flat3 = Flatten()(pool3)\n",
    "\n",
    "# # merge feature extractors\n",
    "# merge = concatenate([flat1, flat2])\n",
    "# x = Dense(64, activation='relu')(x)\n",
    "# preds = Dense(21, activation='softmax')(x)\n",
    "\n",
    "# model = Model(input=sequence_input, output=preds)\n",
    "\n",
    "# # compile the model\n",
    "# model.compile(optimizer='adam', loss='categorical_crossentropy', metrics=['accuracy'])\n",
    "# # summarize the model\n",
    "# print(model.summary())\n",
    "\n",
    "\n",
    "\n",
    "# # input layer\n",
    "# visible = Input(shape=(64,64,1))\n",
    "# # first feature extractor\n",
    "# conv1 = Conv2D(32, kernel_size=424, activation='relu')(visible)\n",
    "# pool1 = MaxPooling2D(pool_size=(2, 2))(conv1)\n",
    "# flat1 = Flatten()(pool1)\n",
    "# # second feature extractor\n",
    "# conv2 = Conv2D(16, kernel_size=424, activation='relu')(visible)\n",
    "# pool2 = MaxPooling2D(pool_size=(2, 2))(conv2)\n",
    "# flat2 = Flatten()(pool2)\n",
    "# # merge feature extractors\n",
    "# merge = concatenate([flat1, flat2])\n",
    "# # interpretation layer\n",
    "# hidden1 = Dense(10, activation='relu')(merge)\n",
    "# # prediction output\n",
    "# output = Dense(1, activation='sigmoid')(hidden1)\n",
    "# model = Model(inputs=visible, outputs=output)\n",
    "\n",
    "# # # compile the model\n",
    "# model.compile(optimizer='adam', loss='categorical_crossentropy', metrics=['accuracy'])\n",
    "# # # summarize the model\n",
    "# # print(model.summary())\n",
    "# # summarize layers\n",
    "# print(model.summary())\n",
    "# plot graph\n",
    "# plot_model(model, to_file='shared_input_layer.png')"
   ]
  },
  {
   "cell_type": "code",
   "execution_count": null,
   "metadata": {},
   "outputs": [],
   "source": [
    "# X_test.shape"
   ]
  },
  {
   "cell_type": "code",
   "execution_count": null,
   "metadata": {},
   "outputs": [],
   "source": [
    "# model.fit(X_train, y_train, validation_data=(X_test, y_test), epochs=3,verbose=1)"
   ]
  },
  {
   "cell_type": "code",
   "execution_count": null,
   "metadata": {},
   "outputs": [],
   "source": [
    "# # evaluate the model\n",
    "# loss, accuracy = model.evaluate(X_test, y_test, verbose=0)\n",
    "# print('Accuracy: %f' % (accuracy*100))"
   ]
  },
  {
   "cell_type": "code",
   "execution_count": null,
   "metadata": {},
   "outputs": [],
   "source": [
    "# Y_pred_6 = model.predict(padded_docs_Test)\n",
    "# print(Y_pred_6[0:5])"
   ]
  },
  {
   "cell_type": "code",
   "execution_count": null,
   "metadata": {},
   "outputs": [],
   "source": [
    "# y_pred_66 =[]\n",
    "# for i in Y_pred_6:\n",
    "#     y_pred_66.append(np.argmax(i))\n",
    "\n",
    "# print(y_pred_66)"
   ]
  },
  {
   "cell_type": "code",
   "execution_count": null,
   "metadata": {},
   "outputs": [],
   "source": [
    "# op_6 =labelencoder.inverse_transform(y_pred_66)\n",
    "# d_6 = {'id': Data_Test['id'], 'categories': op_6}\n",
    "# df_6 = pd.DataFrame(data=d_6)\n",
    "# df_6.head()\n",
    "# #df = pd.DataFrame(op,columns=['categories'])\n",
    "# out_csv = 'C:/Users/CE700/Downloads/INSOFE/HoteANN/Predict_7.csv'\n",
    "# df_6.to_csv(out_csv, index=False, header=True)\n",
    "# print(\"Predictions saved to disk: {0}\".format(out_csv))"
   ]
  }
 ],
 "metadata": {
  "colab": {
   "collapsed_sections": [],
   "name": "CUTe_2299.ipynb",
   "provenance": [],
   "toc_visible": true,
   "version": "0.3.2"
  },
  "kernelspec": {
   "display_name": "Python 3",
   "language": "python",
   "name": "python3"
  },
  "language_info": {
   "codemirror_mode": {
    "name": "ipython",
    "version": 3
   },
   "file_extension": ".py",
   "mimetype": "text/x-python",
   "name": "python",
   "nbconvert_exporter": "python",
   "pygments_lexer": "ipython3",
   "version": "3.6.6"
  }
 },
 "nbformat": 4,
 "nbformat_minor": 1
}
